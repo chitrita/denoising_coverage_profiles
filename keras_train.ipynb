{
 "cells": [
  {
   "cell_type": "markdown",
   "metadata": {},
   "source": [
    "activation='exp' for last dense layer \n",
    "specify learning rate using args\n",
    "\n"
   ]
  },
  {
   "cell_type": "code",
   "execution_count": 2,
   "metadata": {},
   "outputs": [
    {
     "name": "stdout",
     "output_type": "stream",
     "text": [
      "Train on 75 samples, validate on 25 samples\n",
      "Epoch 1/10\n",
      "75/75 [==============================] - 3s 46ms/step - loss: 4.3730 - acc: 0.1067 - val_loss: 2.3911 - val_acc: 0.1200\n",
      "Epoch 2/10\n",
      "75/75 [==============================] - 3s 39ms/step - loss: 2.3149 - acc: 0.1867 - val_loss: 2.3395 - val_acc: 0.0400\n",
      "Epoch 3/10\n",
      "75/75 [==============================] - 3s 39ms/step - loss: 2.3125 - acc: 0.1333 - val_loss: 2.3331 - val_acc: 0.0400\n",
      "Epoch 4/10\n",
      "75/75 [==============================] - 3s 38ms/step - loss: 2.2934 - acc: 0.1333 - val_loss: 2.3691 - val_acc: 0.0400\n",
      "Epoch 5/10\n",
      "75/75 [==============================] - 3s 37ms/step - loss: 2.2718 - acc: 0.1867 - val_loss: 2.4567 - val_acc: 0.0400\n",
      "\n",
      "Epoch 00005: val_acc improved from -inf to 0.04000, saving model to model.best.hdf5\n",
      "Epoch 6/10\n",
      "75/75 [==============================] - 3s 37ms/step - loss: 2.2652 - acc: 0.1600 - val_loss: 2.4333 - val_acc: 0.0400\n",
      "Epoch 7/10\n",
      "75/75 [==============================] - 3s 41ms/step - loss: 2.2840 - acc: 0.1067 - val_loss: 2.3969 - val_acc: 0.0400\n",
      "Epoch 8/10\n",
      "75/75 [==============================] - 3s 39ms/step - loss: 2.2763 - acc: 0.1600 - val_loss: 2.3662 - val_acc: 0.0400\n",
      "Epoch 9/10\n",
      "75/75 [==============================] - 3s 38ms/step - loss: 2.2826 - acc: 0.2000 - val_loss: 2.3833 - val_acc: 0.0400\n",
      "Epoch 10/10\n",
      "75/75 [==============================] - 3s 38ms/step - loss: 2.2753 - acc: 0.1333 - val_loss: 2.4155 - val_acc: 0.0400\n",
      "\n",
      "Epoch 00010: val_acc did not improve from 0.04000\n"
     ]
    }
   ],
   "source": [
    "from keras.callbacks import ModelCheckpoint\n",
    "checkpoint = ModelCheckpoint(filepath=\"model.best.hdf5\", \n",
    "                             save_weights_only=False,\n",
    "                             monitor='val_acc', \n",
    "                             verbose=1, \n",
    "                             save_best_only=True,\n",
    "                             period=5)\n",
    "\n",
    "from keras.callbacks import TensorBoard\n",
    "tensorboard = TensorBoard(log_dir='./logs', \n",
    "                          histogram_freq=1, \n",
    "                          write_graph=False, \n",
    "                          write_grads=True, \n",
    "                          write_images=True)\n",
    "\n",
    "baseline_history = model.fit(x_train, y_train, \n",
    "                    validation_split=0.25, \n",
    "                    epochs=10, \n",
    "                    batch_size=16, \n",
    "                    verbose=1, \n",
    "                    callbacks=[checkpoint, tensorboard])"
   ]
  },
  {
   "cell_type": "code",
   "execution_count": 3,
   "metadata": {},
   "outputs": [
    {
     "data": {
      "image/png": "[encoded data removed]",
      "text/plain": [
       "<Figure size 1152x720 with 1 Axes>"
      ]
     },
     "metadata": {
      "needs_background": "light"
     },
     "output_type": "display_data"
    }
   ],
   "source": [
    "import matplotlib.pyplot as plt\n",
    "%matplotlib inline \n",
    "\n",
    "\n",
    "def plot_history(histories, key='loss'):\n",
    "  plt.figure(figsize=(16,10))\n",
    "    \n",
    "  for name, history in histories:\n",
    "    val = plt.plot(history.epoch, history.history['val_'+key],\n",
    "                   '--', label=name.title()+' Val')\n",
    "    plt.plot(history.epoch, history.history[key], color=val[0].get_color(),\n",
    "             label=name.title()+' Train')\n",
    "\n",
    "  plt.xlabel('Epochs')\n",
    "  plt.ylabel(key.replace('_',' ').title())\n",
    "  plt.legend()\n",
    "\n",
    "  plt.xlim([0,max(history.epoch)])\n",
    "    \n",
    "plot_history([('baseline', baseline_history)])\n"
   ]
  },
  {
   "cell_type": "code",
   "execution_count": 4,
   "metadata": {},
   "outputs": [
    {
     "data": {
      "text/plain": [
       "[<tf.Tensor 'conv2d_1_input:0' shape=(?, 100, 100, 3) dtype=float32>]"
      ]
     },
     "execution_count": 4,
     "metadata": {},
     "output_type": "execute_result"
    }
   ],
   "source": [
    "model.inputs"
   ]
  },
  {
   "cell_type": "code",
   "execution_count": 5,
   "metadata": {},
   "outputs": [
    {
     "data": {
      "text/plain": [
       "[<tf.Tensor 'dense_2/Softmax:0' shape=(?, 10) dtype=float32>]"
      ]
     },
     "execution_count": 5,
     "metadata": {},
     "output_type": "execute_result"
    }
   ],
   "source": [
    "model.outputs"
   ]
  },
  {
   "cell_type": "code",
   "execution_count": 15,
   "metadata": {},
   "outputs": [
    {
     "name": "stdout",
     "output_type": "stream",
     "text": [
      "_________________________________________________________________\n",
      "Layer (type)                 Output Shape              Param #   \n",
      "=================================================================\n",
      "conv2d_1 (Conv2D)            (None, 98, 98, 32)        896       \n",
      "_________________________________________________________________\n",
      "conv2d_2 (Conv2D)            (None, 96, 96, 32)        9248      \n",
      "_________________________________________________________________\n",
      "max_pooling2d_1 (MaxPooling2 (None, 48, 48, 32)        0         \n",
      "_________________________________________________________________\n",
      "dropout_1 (Dropout)          (None, 48, 48, 32)        0         \n",
      "_________________________________________________________________\n",
      "conv2d_3 (Conv2D)            (None, 46, 46, 64)        18496     \n",
      "_________________________________________________________________\n",
      "conv2d_4 (Conv2D)            (None, 44, 44, 64)        36928     \n",
      "_________________________________________________________________\n",
      "max_pooling2d_2 (MaxPooling2 (None, 22, 22, 64)        0         \n",
      "_________________________________________________________________\n",
      "dropout_2 (Dropout)          (None, 22, 22, 64)        0         \n",
      "_________________________________________________________________\n",
      "flatten_1 (Flatten)          (None, 30976)             0         \n",
      "_________________________________________________________________\n",
      "dense_1 (Dense)              (None, 256)               7930112   \n",
      "_________________________________________________________________\n",
      "dropout_3 (Dropout)          (None, 256)               0         \n",
      "_________________________________________________________________\n",
      "dense_2 (Dense)              (None, 10)                2570      \n",
      "=================================================================\n",
      "Total params: 7,998,250\n",
      "Trainable params: 7,998,250\n",
      "Non-trainable params: 0\n",
      "_________________________________________________________________\n"
     ]
    }
   ],
   "source": [
    "from contextlib import redirect_stdout\n",
    "\n",
    "with open('model.summary.txt', 'w') as f:\n",
    "    with redirect_stdout(f):\n",
    "        model.summary()"
   ]
  },
  {
   "cell_type": "code",
   "execution_count": 7,
   "metadata": {},
   "outputs": [
    {
     "data": {
      "image/svg+xml": [
       "<svg height=\"921pt\" viewBox=\"0.00 0.00 219.61 921.00\" width=\"220pt\" xmlns=\"http://www.w3.org/2000/svg\" xmlns:xlink=\"http://www.w3.org/1999/xlink\">\n",
       "<g class=\"graph\" id=\"graph0\" transform=\"scale(1 1) rotate(0) translate(4 917)\">\n",
       "<title>G</title>\n",
       "<polygon fill=\"#ffffff\" points=\"-4,4 -4,-917 215.6104,-917 215.6104,4 -4,4\" stroke=\"transparent\"/>\n",
       "<!-- 4542029608 -->\n",
       "<g class=\"node\" id=\"node1\">\n",
       "<title>4542029608</title>\n",
       "<polygon fill=\"none\" points=\"42.7793,-803.5 42.7793,-839.5 168.8311,-839.5 168.8311,-803.5 42.7793,-803.5\" stroke=\"#000000\"/>\n",
       "<text fill=\"#000000\" font-family=\"Times,serif\" font-size=\"14.00\" text-anchor=\"middle\" x=\"105.8052\" y=\"-817.3\">conv2d_1: Conv2D</text>\n",
       "</g>\n",
       "<!-- 4550725816 -->\n",
       "<g class=\"node\" id=\"node2\">\n",
       "<title>4550725816</title>\n",
       "<polygon fill=\"none\" points=\"42.7793,-730.5 42.7793,-766.5 168.8311,-766.5 168.8311,-730.5 42.7793,-730.5\" stroke=\"#000000\"/>\n",
       "<text fill=\"#000000\" font-family=\"Times,serif\" font-size=\"14.00\" text-anchor=\"middle\" x=\"105.8052\" y=\"-744.3\">conv2d_2: Conv2D</text>\n",
       "</g>\n",
       "<!-- 4542029608&#45;&gt;4550725816 -->\n",
       "<g class=\"edge\" id=\"edge2\">\n",
       "<title>4542029608-&gt;4550725816</title>\n",
       "<path d=\"M105.8052,-803.4551C105.8052,-795.3828 105.8052,-785.6764 105.8052,-776.6817\" fill=\"none\" stroke=\"#000000\"/>\n",
       "<polygon fill=\"#000000\" points=\"109.3053,-776.5903 105.8052,-766.5904 102.3053,-776.5904 109.3053,-776.5903\" stroke=\"#000000\"/>\n",
       "</g>\n",
       "<!-- 47780734008 -->\n",
       "<g class=\"node\" id=\"node3\">\n",
       "<title>47780734008</title>\n",
       "<polygon fill=\"none\" points=\"0,-657.5 0,-693.5 211.6104,-693.5 211.6104,-657.5 0,-657.5\" stroke=\"#000000\"/>\n",
       "<text fill=\"#000000\" font-family=\"Times,serif\" font-size=\"14.00\" text-anchor=\"middle\" x=\"105.8052\" y=\"-671.3\">max_pooling2d_1: MaxPooling2D</text>\n",
       "</g>\n",
       "<!-- 4550725816&#45;&gt;47780734008 -->\n",
       "<g class=\"edge\" id=\"edge3\">\n",
       "<title>4550725816-&gt;47780734008</title>\n",
       "<path d=\"M105.8052,-730.4551C105.8052,-722.3828 105.8052,-712.6764 105.8052,-703.6817\" fill=\"none\" stroke=\"#000000\"/>\n",
       "<polygon fill=\"#000000\" points=\"109.3053,-703.5903 105.8052,-693.5904 102.3053,-703.5904 109.3053,-703.5903\" stroke=\"#000000\"/>\n",
       "</g>\n",
       "<!-- 47809710288 -->\n",
       "<g class=\"node\" id=\"node4\">\n",
       "<title>47809710288</title>\n",
       "<polygon fill=\"none\" points=\"42.0034,-584.5 42.0034,-620.5 169.6069,-620.5 169.6069,-584.5 42.0034,-584.5\" stroke=\"#000000\"/>\n",
       "<text fill=\"#000000\" font-family=\"Times,serif\" font-size=\"14.00\" text-anchor=\"middle\" x=\"105.8052\" y=\"-598.3\">dropout_1: Dropout</text>\n",
       "</g>\n",
       "<!-- 47780734008&#45;&gt;47809710288 -->\n",
       "<g class=\"edge\" id=\"edge4\">\n",
       "<title>47780734008-&gt;47809710288</title>\n",
       "<path d=\"M105.8052,-657.4551C105.8052,-649.3828 105.8052,-639.6764 105.8052,-630.6817\" fill=\"none\" stroke=\"#000000\"/>\n",
       "<polygon fill=\"#000000\" points=\"109.3053,-630.5903 105.8052,-620.5904 102.3053,-630.5904 109.3053,-630.5903\" stroke=\"#000000\"/>\n",
       "</g>\n",
       "<!-- 47809708496 -->\n",
       "<g class=\"node\" id=\"node5\">\n",
       "<title>47809708496</title>\n",
       "<polygon fill=\"none\" points=\"42.7793,-511.5 42.7793,-547.5 168.8311,-547.5 168.8311,-511.5 42.7793,-511.5\" stroke=\"#000000\"/>\n",
       "<text fill=\"#000000\" font-family=\"Times,serif\" font-size=\"14.00\" text-anchor=\"middle\" x=\"105.8052\" y=\"-525.3\">conv2d_3: Conv2D</text>\n",
       "</g>\n",
       "<!-- 47809710288&#45;&gt;47809708496 -->\n",
       "<g class=\"edge\" id=\"edge5\">\n",
       "<title>47809710288-&gt;47809708496</title>\n",
       "<path d=\"M105.8052,-584.4551C105.8052,-576.3828 105.8052,-566.6764 105.8052,-557.6817\" fill=\"none\" stroke=\"#000000\"/>\n",
       "<polygon fill=\"#000000\" points=\"109.3053,-557.5903 105.8052,-547.5904 102.3053,-557.5904 109.3053,-557.5903\" stroke=\"#000000\"/>\n",
       "</g>\n",
       "<!-- 47809836312 -->\n",
       "<g class=\"node\" id=\"node6\">\n",
       "<title>47809836312</title>\n",
       "<polygon fill=\"none\" points=\"42.7793,-438.5 42.7793,-474.5 168.8311,-474.5 168.8311,-438.5 42.7793,-438.5\" stroke=\"#000000\"/>\n",
       "<text fill=\"#000000\" font-family=\"Times,serif\" font-size=\"14.00\" text-anchor=\"middle\" x=\"105.8052\" y=\"-452.3\">conv2d_4: Conv2D</text>\n",
       "</g>\n",
       "<!-- 47809708496&#45;&gt;47809836312 -->\n",
       "<g class=\"edge\" id=\"edge6\">\n",
       "<title>47809708496-&gt;47809836312</title>\n",
       "<path d=\"M105.8052,-511.4551C105.8052,-503.3828 105.8052,-493.6764 105.8052,-484.6817\" fill=\"none\" stroke=\"#000000\"/>\n",
       "<polygon fill=\"#000000\" points=\"109.3053,-484.5903 105.8052,-474.5904 102.3053,-484.5904 109.3053,-484.5903\" stroke=\"#000000\"/>\n",
       "</g>\n",
       "<!-- 47809838720 -->\n",
       "<g class=\"node\" id=\"node7\">\n",
       "<title>47809838720</title>\n",
       "<polygon fill=\"none\" points=\"0,-365.5 0,-401.5 211.6104,-401.5 211.6104,-365.5 0,-365.5\" stroke=\"#000000\"/>\n",
       "<text fill=\"#000000\" font-family=\"Times,serif\" font-size=\"14.00\" text-anchor=\"middle\" x=\"105.8052\" y=\"-379.3\">max_pooling2d_2: MaxPooling2D</text>\n",
       "</g>\n",
       "<!-- 47809836312&#45;&gt;47809838720 -->\n",
       "<g class=\"edge\" id=\"edge7\">\n",
       "<title>47809836312-&gt;47809838720</title>\n",
       "<path d=\"M105.8052,-438.4551C105.8052,-430.3828 105.8052,-420.6764 105.8052,-411.6817\" fill=\"none\" stroke=\"#000000\"/>\n",
       "<polygon fill=\"#000000\" points=\"109.3053,-411.5903 105.8052,-401.5904 102.3053,-411.5904 109.3053,-411.5903\" stroke=\"#000000\"/>\n",
       "</g>\n",
       "<!-- 47810172968 -->\n",
       "<g class=\"node\" id=\"node8\">\n",
       "<title>47810172968</title>\n",
       "<polygon fill=\"none\" points=\"42.0034,-292.5 42.0034,-328.5 169.6069,-328.5 169.6069,-292.5 42.0034,-292.5\" stroke=\"#000000\"/>\n",
       "<text fill=\"#000000\" font-family=\"Times,serif\" font-size=\"14.00\" text-anchor=\"middle\" x=\"105.8052\" y=\"-306.3\">dropout_2: Dropout</text>\n",
       "</g>\n",
       "<!-- 47809838720&#45;&gt;47810172968 -->\n",
       "<g class=\"edge\" id=\"edge8\">\n",
       "<title>47809838720-&gt;47810172968</title>\n",
       "<path d=\"M105.8052,-365.4551C105.8052,-357.3828 105.8052,-347.6764 105.8052,-338.6817\" fill=\"none\" stroke=\"#000000\"/>\n",
       "<polygon fill=\"#000000\" points=\"109.3053,-338.5903 105.8052,-328.5904 102.3053,-338.5904 109.3053,-338.5903\" stroke=\"#000000\"/>\n",
       "</g>\n",
       "<!-- 47810171008 -->\n",
       "<g class=\"node\" id=\"node9\">\n",
       "<title>47810171008</title>\n",
       "<polygon fill=\"none\" points=\"50.1724,-219.5 50.1724,-255.5 161.438,-255.5 161.438,-219.5 50.1724,-219.5\" stroke=\"#000000\"/>\n",
       "<text fill=\"#000000\" font-family=\"Times,serif\" font-size=\"14.00\" text-anchor=\"middle\" x=\"105.8052\" y=\"-233.3\">flatten_1: Flatten</text>\n",
       "</g>\n",
       "<!-- 47810172968&#45;&gt;47810171008 -->\n",
       "<g class=\"edge\" id=\"edge9\">\n",
       "<title>47810172968-&gt;47810171008</title>\n",
       "<path d=\"M105.8052,-292.4551C105.8052,-284.3828 105.8052,-274.6764 105.8052,-265.6817\" fill=\"none\" stroke=\"#000000\"/>\n",
       "<polygon fill=\"#000000\" points=\"109.3053,-265.5903 105.8052,-255.5904 102.3053,-265.5904 109.3053,-265.5903\" stroke=\"#000000\"/>\n",
       "</g>\n",
       "<!-- 47810174704 -->\n",
       "<g class=\"node\" id=\"node10\">\n",
       "<title>47810174704</title>\n",
       "<polygon fill=\"none\" points=\"53.6792,-146.5 53.6792,-182.5 157.9312,-182.5 157.9312,-146.5 53.6792,-146.5\" stroke=\"#000000\"/>\n",
       "<text fill=\"#000000\" font-family=\"Times,serif\" font-size=\"14.00\" text-anchor=\"middle\" x=\"105.8052\" y=\"-160.3\">dense_1: Dense</text>\n",
       "</g>\n",
       "<!-- 47810171008&#45;&gt;47810174704 -->\n",
       "<g class=\"edge\" id=\"edge10\">\n",
       "<title>47810171008-&gt;47810174704</title>\n",
       "<path d=\"M105.8052,-219.4551C105.8052,-211.3828 105.8052,-201.6764 105.8052,-192.6817\" fill=\"none\" stroke=\"#000000\"/>\n",
       "<polygon fill=\"#000000\" points=\"109.3053,-192.5903 105.8052,-182.5904 102.3053,-192.5904 109.3053,-192.5903\" stroke=\"#000000\"/>\n",
       "</g>\n",
       "<!-- 47810278120 -->\n",
       "<g class=\"node\" id=\"node11\">\n",
       "<title>47810278120</title>\n",
       "<polygon fill=\"none\" points=\"42.0034,-73.5 42.0034,-109.5 169.6069,-109.5 169.6069,-73.5 42.0034,-73.5\" stroke=\"#000000\"/>\n",
       "<text fill=\"#000000\" font-family=\"Times,serif\" font-size=\"14.00\" text-anchor=\"middle\" x=\"105.8052\" y=\"-87.3\">dropout_3: Dropout</text>\n",
       "</g>\n",
       "<!-- 47810174704&#45;&gt;47810278120 -->\n",
       "<g class=\"edge\" id=\"edge11\">\n",
       "<title>47810174704-&gt;47810278120</title>\n",
       "<path d=\"M105.8052,-146.4551C105.8052,-138.3828 105.8052,-128.6764 105.8052,-119.6817\" fill=\"none\" stroke=\"#000000\"/>\n",
       "<polygon fill=\"#000000\" points=\"109.3053,-119.5903 105.8052,-109.5904 102.3053,-119.5904 109.3053,-119.5903\" stroke=\"#000000\"/>\n",
       "</g>\n",
       "<!-- 47810495432 -->\n",
       "<g class=\"node\" id=\"node12\">\n",
       "<title>47810495432</title>\n",
       "<polygon fill=\"none\" points=\"53.6792,-.5 53.6792,-36.5 157.9312,-36.5 157.9312,-.5 53.6792,-.5\" stroke=\"#000000\"/>\n",
       "<text fill=\"#000000\" font-family=\"Times,serif\" font-size=\"14.00\" text-anchor=\"middle\" x=\"105.8052\" y=\"-14.3\">dense_2: Dense</text>\n",
       "</g>\n",
       "<!-- 47810278120&#45;&gt;47810495432 -->\n",
       "<g class=\"edge\" id=\"edge12\">\n",
       "<title>47810278120-&gt;47810495432</title>\n",
       "<path d=\"M105.8052,-73.4551C105.8052,-65.3828 105.8052,-55.6764 105.8052,-46.6817\" fill=\"none\" stroke=\"#000000\"/>\n",
       "<polygon fill=\"#000000\" points=\"109.3053,-46.5903 105.8052,-36.5904 102.3053,-46.5904 109.3053,-46.5903\" stroke=\"#000000\"/>\n",
       "</g>\n",
       "<!-- 47780733112 -->\n",
       "<g class=\"node\" id=\"node13\">\n",
       "<title>47780733112</title>\n",
       "<polygon fill=\"none\" points=\"59.5615,-876.5 59.5615,-912.5 152.0488,-912.5 152.0488,-876.5 59.5615,-876.5\" stroke=\"#000000\"/>\n",
       "<text fill=\"#000000\" font-family=\"Times,serif\" font-size=\"14.00\" text-anchor=\"middle\" x=\"105.8052\" y=\"-890.3\">47780733112</text>\n",
       "</g>\n",
       "<!-- 47780733112&#45;&gt;4542029608 -->\n",
       "<g class=\"edge\" id=\"edge1\">\n",
       "<title>47780733112-&gt;4542029608</title>\n",
       "<path d=\"M105.8052,-876.4551C105.8052,-868.3828 105.8052,-858.6764 105.8052,-849.6817\" fill=\"none\" stroke=\"#000000\"/>\n",
       "<polygon fill=\"#000000\" points=\"109.3053,-849.5903 105.8052,-839.5904 102.3053,-849.5904 109.3053,-849.5903\" stroke=\"#000000\"/>\n",
       "</g>\n",
       "</g>\n",
       "</svg>"
      ],
      "text/plain": [
       "<IPython.core.display.SVG object>"
      ]
     },
     "execution_count": 7,
     "metadata": {},
     "output_type": "execute_result"
    }
   ],
   "source": [
    "from IPython.display import SVG\n",
    "from keras.utils.vis_utils import model_to_dot\n",
    "\n",
    "SVG(model_to_dot(model).create(prog='dot', format='svg'))"
   ]
  },
  {
   "cell_type": "code",
   "execution_count": null,
   "metadata": {},
   "outputs": [],
   "source": []
  }
 ],
 "metadata": {
  "kernelspec": {
   "display_name": "Python 3",
   "language": "python",
   "name": "python3"
  },
  "language_info": {
   "codemirror_mode": {
    "name": "ipython",
    "version": 3
   },
   "file_extension": ".py",
   "mimetype": "text/x-python",
   "name": "python",
   "nbconvert_exporter": "python",
   "pygments_lexer": "ipython3",
   "version": "3.5.6"
  },
  "toc": {
   "base_numbering": 1,
   "nav_menu": {},
   "number_sections": true,
   "sideBar": true,
   "skip_h1_title": false,
   "title_cell": "Table of Contents",
   "title_sidebar": "Contents",
   "toc_cell": false,
   "toc_position": {},
   "toc_section_display": true,
   "toc_window_display": false
  }
 },
 "nbformat": 4,
 "nbformat_minor": 2
}
