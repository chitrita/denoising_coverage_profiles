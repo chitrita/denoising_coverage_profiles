{
 "cells": [
  {
   "cell_type": "markdown",
   "metadata": {},
   "source": [
    "https://github.com/gokceneraslan/dnaconvnet-notebook"
   ]
  },
  {
   "cell_type": "markdown",
   "metadata": {},
   "source": [
    "### EWSR1 motif from [JASPAR](http://jaspar.genereg.net/cgi-bin/jaspar_db.pl?ID=MA0149.1&rm=present&collection=CORE)\n",
    "![title](http://jaspar.genereg.net/static/logos/MA0149.1.BIG.png)"
   ]
  },
  {
   "cell_type": "code",
   "execution_count": 20,
   "metadata": {},
   "outputs": [],
   "source": [
    "import numpy as np\n",
    "\n",
    "seq_length = 40\n",
    "num_sample = 1000\n",
    "\n",
    "# PFM from JASPAR\n",
    "motif = np.array([[   0,   2, 104, 104,   1,   2, 103, 102,   0,   0,  99, 105,   0,   0, 100, 102,   5,   3],\n",
    "                  [   0,   0,   0,   0,   0,   0,   0,   0,   0,   2,   4,   0,   0,   2,   3,   0,   0,   3],\n",
    "                  [ 105, 103,   1,   1, 104, 102,   2,   3, 104, 103,   2,   0, 105, 103,   0,   2,  97,  97],\n",
    "                  [   0,   0,   0,   0,   0,   1,   0,   0,   1,   0,   0,   0,   0,   0,   2,   1,   3,   2]])"
   ]
  },
  {
   "cell_type": "code",
   "execution_count": 21,
   "metadata": {},
   "outputs": [
    {
     "name": "stdout",
     "output_type": "stream",
     "text": [
      "Sequence matrix shape: (4, 40)\n"
     ]
    }
   ],
   "source": [
    "freq = np.hstack([np.ones((4,(seq_length-motif.shape[1])//2)), \n",
    "                  motif,\n",
    "                  np.ones((4,(seq_length-motif.shape[1])//2))])\n",
    "print('Sequence matrix shape: {}'.format(freq.shape))"
   ]
  },
  {
   "cell_type": "code",
   "execution_count": 22,
   "metadata": {
    "scrolled": true
   },
   "outputs": [
    {
     "data": {
      "text/plain": [
       "['ATTTTTTATCAGGAAGGAAGGAAGGCAGGCGTTGACACAA',\n",
       " 'AATTGCTCTTGGGAAGAAAGGAAGGAAGCTCCATCCACAT',\n",
       " 'CTGTCGGTTTGGGAAGGAAGGAAGGAAGGGGCTCTCCTAC',\n",
       " 'GGGGGCCCAGAGGAAGGAAGGAAGGAAGGATGGCCTTCTA',\n",
       " 'ATTTGTGCGCTGGAAGGAAGGAAGGAAGGGAACGCGTGTC',\n",
       " 'AAGCAATCTTAGGAAGGAAGGAAGGAAGGAAATGTATATT',\n",
       " 'CATACGCCGTAGGAAGGAAGGAAGGAAGGTTGATGAGATG',\n",
       " 'TCACAAGCGCGGGAAGGAAGGAAGGAAGGTGTTGAGCCAC',\n",
       " 'ATCAGATATATGGAAGGAAGGAAGGAAGGGTGGATAGTCT']"
      ]
     },
     "execution_count": 22,
     "metadata": {},
     "output_type": "execute_result"
    }
   ],
   "source": [
    "#normalize to PWM and generate positive samples\n",
    "pos = np.array([np.random.choice(['A', 'C', 'G', 'T'], num_sample, p=freq[:,i]/sum(freq[:,i])) \n",
    "                for i in range(seq_length)]).transpose()\n",
    "[''.join(x) for x in pos[1:10,:]]"
   ]
  },
  {
   "cell_type": "code",
   "execution_count": 23,
   "metadata": {
    "scrolled": true
   },
   "outputs": [
    {
     "data": {
      "text/plain": [
       "['GTTCGCATAGGGAGCACCCGGTTGCTGAAAATGGTCGGCG',\n",
       " 'CCTCCGTAGGTGCTGAATCCCACAAACATTCTCTTTACAA',\n",
       " 'GCAACATCTACATGCTTTGTACGAATCAGGGTAGCAAACT',\n",
       " 'TCACACTGGGGCGTGGGTAGCGTTGTCAATTTGAAGATCA',\n",
       " 'ATAAGACGGACTCTATAAACAAAGGTATTTGCATGGCACT',\n",
       " 'CTGTTAGCACAGCTGCATGCTTATAGTACCGAGGATAAAA',\n",
       " 'TGCCATGTTTTGATTTAAATCCCCCCCTCAGCGAAACCGA',\n",
       " 'CCGTTTACACTTAATGTGTACATCTATGGGATTATTCACC',\n",
       " 'TATGTGGAACTCACTATCTGTTCTATTGTATGCGGTCAGA']"
      ]
     },
     "execution_count": 23,
     "metadata": {},
     "output_type": "execute_result"
    }
   ],
   "source": [
    "neg = np.array([np.random.choice(['A', 'C', 'G', 'T'], num_sample, p=np.array([1,1,1,1])/4.0)\n",
    "                for i in range(seq_length)]).transpose()\n",
    "[''.join(x) for x in neg[1:10,:]]"
   ]
  },
  {
   "cell_type": "code",
   "execution_count": 24,
   "metadata": {},
   "outputs": [
    {
     "name": "stdout",
     "output_type": "stream",
     "text": [
      "Positive sample matrix shape: (1000, 40)\n",
      "Positive sample tensor shape: (1000, 40, 4)\n",
      "Training set shape: (2000, 40, 4)\n",
      "Training set label shape: (2000,)\n",
      "\n",
      "One-hot encoding looks like:\n",
      " [[0. 1. 0. 0.]\n",
      " [0. 1. 0. 0.]\n",
      " [0. 0. 0. 1.]\n",
      " [1. 0. 0. 0.]\n",
      " [0. 0. 1. 0.]\n",
      " [1. 0. 0. 0.]\n",
      " [0. 0. 1. 0.]\n",
      " [0. 0. 1. 0.]\n",
      " [0. 0. 1. 0.]\n",
      " [1. 0. 0. 0.]]\n"
     ]
    }
   ],
   "source": [
    "pos_tensor = np.zeros(list(pos.shape) + [4])\n",
    "neg_tensor = np.zeros(list(neg.shape) + [4])\n",
    "\n",
    "base_dict = {'A': 0, 'C': 1, 'G': 2, 'T': 3}\n",
    "\n",
    "#naive one-hot encoding\n",
    "for row in range(num_sample):\n",
    "    for col in range(seq_length):\n",
    "        pos_tensor[row,col,base_dict[pos[row,col]]] = 1\n",
    "        neg_tensor[row,col,base_dict[neg[row,col]]] = 1\n",
    "\n",
    "print('Positive sample matrix shape: {}'.format(pos.shape))\n",
    "# this should be a 3D tensor with shape: (samples, steps, input_dim)\n",
    "print('Positive sample tensor shape: {}'.format(pos_tensor.shape))\n",
    "\n",
    "X = np.vstack((pos_tensor, neg_tensor))\n",
    "y = np.concatenate((np.ones(num_sample), np.zeros(num_sample)))\n",
    "\n",
    "print('Training set shape: {}'.format(X.shape))\n",
    "print('Training set label shape: {}'.format(y.shape))\n",
    "print('\\nOne-hot encoding looks like:\\n {}'.format(X[0,0:10,:]))"
   ]
  },
  {
   "cell_type": "code",
   "execution_count": 25,
   "metadata": {},
   "outputs": [
    {
     "name": "stdout",
     "output_type": "stream",
     "text": [
      "Shape of the output of first layer: (32, 40, 1)\n"
     ]
    }
   ],
   "source": [
    "#here comes the deep learning part\n",
    "from keras.models import Sequential\n",
    "from keras.layers import Conv1D, Dense, Flatten, Dropout\n",
    "from keras.activations import relu\n",
    "from keras.layers.pooling import MaxPooling1D\n",
    "from keras.optimizers import SGD\n",
    "\n",
    "model = Sequential()\n",
    "model.add(Conv1D(1, 19, padding='same', input_shape=(seq_length, 4), activation='relu'))\n",
    "\n",
    "#sanity check for dimensions\n",
    "print('Shape of the output of first layer: {}'.format(model.predict_on_batch(pos_tensor[0:32,:,:]).shape))"
   ]
  },
  {
   "cell_type": "code",
   "execution_count": 26,
   "metadata": {},
   "outputs": [
    {
     "name": "stdout",
     "output_type": "stream",
     "text": [
      "Train on 1600 samples, validate on 400 samples\n",
      "Epoch 1/10\n",
      "1600/1600 [==============================] - 0s 260us/step - loss: 0.5018 - acc: 0.7025 - val_loss: 0.6830 - val_acc: 0.5975\n",
      "Epoch 2/10\n",
      "1600/1600 [==============================] - 0s 75us/step - loss: 0.2958 - acc: 0.8975 - val_loss: 0.4510 - val_acc: 0.9625\n",
      "Epoch 3/10\n",
      "1600/1600 [==============================] - 0s 75us/step - loss: 0.2222 - acc: 0.9425 - val_loss: 0.3338 - val_acc: 0.9875\n",
      "Epoch 4/10\n",
      "1600/1600 [==============================] - 0s 79us/step - loss: 0.1731 - acc: 0.9613 - val_loss: 0.2600 - val_acc: 0.9925\n",
      "Epoch 5/10\n",
      "1600/1600 [==============================] - 0s 76us/step - loss: 0.1547 - acc: 0.9613 - val_loss: 0.2244 - val_acc: 0.9950\n",
      "Epoch 6/10\n",
      "1600/1600 [==============================] - 0s 77us/step - loss: 0.1590 - acc: 0.9537 - val_loss: 0.1896 - val_acc: 0.9975\n",
      "Epoch 7/10\n",
      "1600/1600 [==============================] - 0s 75us/step - loss: 0.1424 - acc: 0.9619 - val_loss: 0.1714 - val_acc: 0.9975\n",
      "Epoch 8/10\n",
      "1600/1600 [==============================] - 0s 77us/step - loss: 0.1241 - acc: 0.9688 - val_loss: 0.1540 - val_acc: 0.9975\n",
      "Epoch 9/10\n",
      "1600/1600 [==============================] - 0s 79us/step - loss: 0.1193 - acc: 0.9700 - val_loss: 0.1423 - val_acc: 0.9975\n",
      "Epoch 10/10\n",
      "1600/1600 [==============================] - 0s 94us/step - loss: 0.1162 - acc: 0.9694 - val_loss: 0.1280 - val_acc: 0.9975\n"
     ]
    }
   ],
   "source": [
    "#model.add(MaxPooling1D(pool_length=4))\n",
    "model.add(Dropout(0.7))\n",
    "model.add(Flatten())\n",
    "model.add(Dense(1, activation='sigmoid'))\n",
    "\n",
    "sgd = SGD(lr=0.01, decay=1e-6, momentum=0.9, nesterov=True)\n",
    "model.compile(optimizer=sgd,\n",
    "              loss='binary_crossentropy',\n",
    "              metrics=['accuracy'])\n",
    "\n",
    "hist = model.fit(X, y, validation_split=0.2, epochs=10)  # starts training"
   ]
  },
  {
   "cell_type": "code",
   "execution_count": 27,
   "metadata": {},
   "outputs": [
    {
     "name": "stdout",
     "output_type": "stream",
     "text": [
      "Convolution parameter shape: (19, 4)\n"
     ]
    }
   ],
   "source": [
    "#have a look at the filter\n",
    "convlayer = model.layers[0]\n",
    "weights = convlayer.get_weights()[0].squeeze()\n",
    "print('Convolution parameter shape: {}'.format(weights.shape))"
   ]
  },
  {
   "cell_type": "code",
   "execution_count": 28,
   "metadata": {},
   "outputs": [
    {
     "data": {
      "text/plain": [
       "'AAAGAAGGAAGGGAAGGAA'"
      ]
     },
     "execution_count": 28,
     "metadata": {},
     "output_type": "execute_result"
    }
   ],
   "source": [
    "num2seq = ['A','C','G','T']\n",
    "\n",
    "''.join([num2seq[np.argmax(weights[i,:])] for i in range(weights.shape[0])])"
   ]
  },
  {
   "cell_type": "code",
   "execution_count": null,
   "metadata": {},
   "outputs": [],
   "source": []
  }
 ],
 "metadata": {
  "kernelspec": {
   "display_name": "Python 3",
   "language": "python",
   "name": "python3"
  },
  "language_info": {
   "codemirror_mode": {
    "name": "ipython",
    "version": 3
   },
   "file_extension": ".py",
   "mimetype": "text/x-python",
   "name": "python",
   "nbconvert_exporter": "python",
   "pygments_lexer": "ipython3",
   "version": "3.5.6"
  },
  "toc": {
   "base_numbering": 1,
   "nav_menu": {},
   "number_sections": true,
   "sideBar": true,
   "skip_h1_title": false,
   "title_cell": "Table of Contents",
   "title_sidebar": "Contents",
   "toc_cell": false,
   "toc_position": {},
   "toc_section_display": true,
   "toc_window_display": false
  }
 },
 "nbformat": 4,
 "nbformat_minor": 1
}
