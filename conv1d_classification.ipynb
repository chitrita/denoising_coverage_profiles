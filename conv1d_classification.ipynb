{
 "cells": [
  {
   "cell_type": "markdown",
   "metadata": {
    "toc": true
   },
   "source": [
    "<h1>Table of Contents<span class=\"tocSkip\"></span></h1>\n",
    "<div class=\"toc\"><ul class=\"toc-item\"><li><span><a href=\"#Discovering-DNA-motifs-using-convolutional-neural-networks\" data-toc-modified-id=\"Discovering-DNA-motifs-using-convolutional-neural-networks-1\"><span class=\"toc-item-num\">1&nbsp;&nbsp;</span>Discovering DNA motifs using convolutional neural networks</a></span></li><li><span><a href=\"#EWSR1-motif\" data-toc-modified-id=\"EWSR1-motif-2\"><span class=\"toc-item-num\">2&nbsp;&nbsp;</span>EWSR1 motif</a></span></li><li><span><a href=\"#Generating-training-examples\" data-toc-modified-id=\"Generating-training-examples-3\"><span class=\"toc-item-num\">3&nbsp;&nbsp;</span>Generating training examples</a></span></li><li><span><a href=\"#Preprocessing-the-data\" data-toc-modified-id=\"Preprocessing-the-data-4\"><span class=\"toc-item-num\">4&nbsp;&nbsp;</span>Preprocessing the data</a></span></li><li><span><a href=\"#Building-a-convolution-neural-network\" data-toc-modified-id=\"Building-a-convolution-neural-network-5\"><span class=\"toc-item-num\">5&nbsp;&nbsp;</span>Building a convolution neural network</a></span></li><li><span><a href=\"#Training-and-evaluting-the-network\" data-toc-modified-id=\"Training-and-evaluting-the-network-6\"><span class=\"toc-item-num\">6&nbsp;&nbsp;</span>Training and evaluting the network</a></span></li><li><span><a href=\"#The-convolution-filter-evolves-towards-the-DNA-motif\" data-toc-modified-id=\"The-convolution-filter-evolves-towards-the-DNA-motif-7\"><span class=\"toc-item-num\">7&nbsp;&nbsp;</span>The convolution filter evolves towards the DNA motif</a></span></li><li><span><a href=\"#Appendix:-Various-ways-to-visualize-the-model-architecture\" data-toc-modified-id=\"Appendix:-Various-ways-to-visualize-the-model-architecture-8\"><span class=\"toc-item-num\">8&nbsp;&nbsp;</span>Appendix: Various ways to visualize the model architecture</a></span></li></ul></div>"
   ]
  },
  {
   "cell_type": "markdown",
   "metadata": {},
   "source": [
    "Based upon [Gökçen Eraslan's PyCon talk](https://github.com/gokceneraslan/dnaconvnet-notebook)."
   ]
  },
  {
   "cell_type": "markdown",
   "metadata": {},
   "source": [
    "## Discovering DNA motifs using convolutional neural networks\n",
    "\n",
    "The goal is to train a convolutional neural network to recognize a given DNA sequence motif given a  synthetic set of training examples (sequences) that have been labeled according to whether they contain the motif or not. In other words, the convolution filter of the network should evolve during training towards the known \"frequency matrix\" of the motif. \n",
    "\n",
    "## EWSR1 motif \n",
    "\n",
    "We fetch the following motif from [JASPAR](http://jaspar.genereg.net/cgi-bin/jaspar_db.pl?ID=MA0149.1&rm=present&collection=CORE):\n",
    "![title](http://jaspar.genereg.net/static/logos/MA0149.1.BIG.png)\n",
    "\n",
    "\n",
    "This motif is a visualization of the \"frequency matrix\":"
   ]
  },
  {
   "cell_type": "code",
   "execution_count": 1,
   "metadata": {},
   "outputs": [],
   "source": [
    "import numpy as np\n",
    "motif = np.array([[   0,   2, 104, 104,   1,   2, 103, 102,   0,   0,  99, 105,   0,   0, 100, 102,   5,   3],\n",
    "                  [   0,   0,   0,   0,   0,   0,   0,   0,   0,   2,   4,   0,   0,   2,   3,   0,   0,   3],\n",
    "                  [ 105, 103,   1,   1, 104, 102,   2,   3, 104, 103,   2,   0, 105, 103,   0,   2,  97,  97],\n",
    "                  [   0,   0,   0,   0,   0,   1,   0,   0,   1,   0,   0,   0,   0,   0,   2,   1,   3,   2]])"
   ]
  },
  {
   "cell_type": "markdown",
   "metadata": {},
   "source": [
    "Each row in this matrix corresponds to one of the four possible nucleotides and the columns correspond to  positions within the binding site of the transcription factor. The matrix elements indicate the frequency with which the corresponding nucleotide was observed at the corresponding position in the binding site. "
   ]
  },
  {
   "cell_type": "markdown",
   "metadata": {},
   "source": [
    "\n",
    "## Generating training examples \n",
    "\n",
    "We wish to create a set of \"positive\" training examples in which the motif is embedded. We can do this by extending the frequency matrix upstream and downstream of the binding site using equal frequencies for each of the possible nucleotides: "
   ]
  },
  {
   "cell_type": "code",
   "execution_count": 2,
   "metadata": {},
   "outputs": [],
   "source": [
    "sequence_length = 30\n",
    "motif_plus_background = np.hstack([np.ones((4, (sequence_length-motif.shape[1])//2)), \n",
    "                                   motif,\n",
    "                                   np.ones((4, (sequence_length-motif.shape[1])//2))])\n",
    "\n",
    "number_training_examples = 10000\n",
    "training_examples_positive = \\\n",
    "np.array([np.random.choice(['A', 'C', 'G', 'T'], \n",
    "                           size=number_training_examples//2, \n",
    "                           p=motif_plus_background[:,position]/float(np.sum(motif_plus_background[:,position]))) \n",
    "          for position in range(sequence_length)]).transpose()\n",
    "\n",
    "sequences_positive = []\n",
    "for training_example_positive in training_examples_positive: \n",
    "    sequences_positive.append(''.join(training_example_positive))\n",
    "    \n",
    "labels_positive = np.ones(shape=len(sequences_positive), dtype=int)"
   ]
  },
  {
   "cell_type": "markdown",
   "metadata": {},
   "source": [
    "Now let's produce the negative training examples by sampling nucleotides with equal frequency, regardless of their position in the sequence: "
   ]
  },
  {
   "cell_type": "code",
   "execution_count": 3,
   "metadata": {
    "scrolled": true
   },
   "outputs": [],
   "source": [
    "training_examples_negative = \\\n",
    "np.array([np.random.choice(['A', 'C', 'G', 'T'], \n",
    "                           size=number_training_examples//2, \n",
    "                           p=np.array([1,1,1,1])/4.0) \n",
    "          for position in range(sequence_length)]).transpose()\n",
    "\n",
    "sequences_negative = []\n",
    "for training_example_negative in training_examples_negative: \n",
    "    sequences_negative.append(''.join(training_example_negative))\n",
    "\n",
    "labels_negative = np.zeros(shape=len(sequences_negative), dtype=int)"
   ]
  },
  {
   "cell_type": "markdown",
   "metadata": {},
   "source": [
    "Wrap the examples up in a dataframe to visualize the positive examples..."
   ]
  },
  {
   "cell_type": "code",
   "execution_count": 4,
   "metadata": {},
   "outputs": [
    {
     "data": {
      "text/html": [
       "<div>\n",
       "<style scoped>\n",
       "    .dataframe tbody tr th:only-of-type {\n",
       "        vertical-align: middle;\n",
       "    }\n",
       "\n",
       "    .dataframe tbody tr th {\n",
       "        vertical-align: top;\n",
       "    }\n",
       "\n",
       "    .dataframe thead th {\n",
       "        text-align: right;\n",
       "    }\n",
       "</style>\n",
       "<table border=\"1\" class=\"dataframe\">\n",
       "  <thead>\n",
       "    <tr style=\"text-align: right;\">\n",
       "      <th></th>\n",
       "      <th>sequence</th>\n",
       "      <th>observed_label</th>\n",
       "    </tr>\n",
       "  </thead>\n",
       "  <tbody>\n",
       "    <tr>\n",
       "      <th>0</th>\n",
       "      <td>ATCGCGGGAAGGAAGGAAGGAAGGGAAGCC</td>\n",
       "      <td>1</td>\n",
       "    </tr>\n",
       "    <tr>\n",
       "      <th>1</th>\n",
       "      <td>TCCATTGGAAGGGAGGAAGGAAGGCCGTTC</td>\n",
       "      <td>1</td>\n",
       "    </tr>\n",
       "    <tr>\n",
       "      <th>2</th>\n",
       "      <td>CTATCAGGAAGGAAGGAAGGAAGGTTACAT</td>\n",
       "      <td>1</td>\n",
       "    </tr>\n",
       "    <tr>\n",
       "      <th>3</th>\n",
       "      <td>TTAGTGGGAAGGAAGGAAGGAAGGCAGTTT</td>\n",
       "      <td>1</td>\n",
       "    </tr>\n",
       "    <tr>\n",
       "      <th>4</th>\n",
       "      <td>GCCGGCGGAAGGAAGGAAGGAAGGCAGGGC</td>\n",
       "      <td>1</td>\n",
       "    </tr>\n",
       "  </tbody>\n",
       "</table>\n",
       "</div>"
      ],
      "text/plain": [
       "                         sequence  observed_label\n",
       "0  ATCGCGGGAAGGAAGGAAGGAAGGGAAGCC               1\n",
       "1  TCCATTGGAAGGGAGGAAGGAAGGCCGTTC               1\n",
       "2  CTATCAGGAAGGAAGGAAGGAAGGTTACAT               1\n",
       "3  TTAGTGGGAAGGAAGGAAGGAAGGCAGTTT               1\n",
       "4  GCCGGCGGAAGGAAGGAAGGAAGGCAGGGC               1"
      ]
     },
     "execution_count": 4,
     "metadata": {},
     "output_type": "execute_result"
    }
   ],
   "source": [
    "import pandas as pd\n",
    "from collections import OrderedDict\n",
    "df_training = pd.DataFrame(OrderedDict([('sequence', np.concatenate((sequences_positive, sequences_negative))),\n",
    "                                        ('observed_label', np.concatenate((labels_positive, labels_negative)))]))\n",
    "df_training[:5]"
   ]
  },
  {
   "cell_type": "markdown",
   "metadata": {},
   "source": [
    "... and the negative examples: "
   ]
  },
  {
   "cell_type": "code",
   "execution_count": 5,
   "metadata": {},
   "outputs": [
    {
     "data": {
      "text/html": [
       "<div>\n",
       "<style scoped>\n",
       "    .dataframe tbody tr th:only-of-type {\n",
       "        vertical-align: middle;\n",
       "    }\n",
       "\n",
       "    .dataframe tbody tr th {\n",
       "        vertical-align: top;\n",
       "    }\n",
       "\n",
       "    .dataframe thead th {\n",
       "        text-align: right;\n",
       "    }\n",
       "</style>\n",
       "<table border=\"1\" class=\"dataframe\">\n",
       "  <thead>\n",
       "    <tr style=\"text-align: right;\">\n",
       "      <th></th>\n",
       "      <th>sequence</th>\n",
       "      <th>observed_label</th>\n",
       "    </tr>\n",
       "  </thead>\n",
       "  <tbody>\n",
       "    <tr>\n",
       "      <th>5000</th>\n",
       "      <td>AAAAAGGAGCCCTTCGGCGAAGACGTATTA</td>\n",
       "      <td>0</td>\n",
       "    </tr>\n",
       "    <tr>\n",
       "      <th>5001</th>\n",
       "      <td>TTTTCGCGCATTGTTATTCGCGAAGCGGAT</td>\n",
       "      <td>0</td>\n",
       "    </tr>\n",
       "    <tr>\n",
       "      <th>5002</th>\n",
       "      <td>CTCTCAGAAGTATCGGAGTGACAGTTGATC</td>\n",
       "      <td>0</td>\n",
       "    </tr>\n",
       "    <tr>\n",
       "      <th>5003</th>\n",
       "      <td>ATTGTTATTCGTTTAAGGGAGGTTTGGGCG</td>\n",
       "      <td>0</td>\n",
       "    </tr>\n",
       "    <tr>\n",
       "      <th>5004</th>\n",
       "      <td>AAGCACCCGCAAAGTGCCCGACGGGACTGG</td>\n",
       "      <td>0</td>\n",
       "    </tr>\n",
       "  </tbody>\n",
       "</table>\n",
       "</div>"
      ],
      "text/plain": [
       "                            sequence  observed_label\n",
       "5000  AAAAAGGAGCCCTTCGGCGAAGACGTATTA               0\n",
       "5001  TTTTCGCGCATTGTTATTCGCGAAGCGGAT               0\n",
       "5002  CTCTCAGAAGTATCGGAGTGACAGTTGATC               0\n",
       "5003  ATTGTTATTCGTTTAAGGGAGGTTTGGGCG               0\n",
       "5004  AAGCACCCGCAAAGTGCCCGACGGGACTGG               0"
      ]
     },
     "execution_count": 5,
     "metadata": {},
     "output_type": "execute_result"
    }
   ],
   "source": [
    "half_way = len(df_training)//2\n",
    "df_training[half_way:half_way+5]"
   ]
  },
  {
   "cell_type": "markdown",
   "metadata": {},
   "source": [
    "## Preprocessing the data\n",
    "\n",
    "Since the sequences are categorical data, we must encode them as numbers before passing them into a function that maps them to class labels. We use \"one-hot encoding\", creating a tensor with dimensions `(number_examples, sequence_length, number_channels)` : "
   ]
  },
  {
   "cell_type": "code",
   "execution_count": 6,
   "metadata": {},
   "outputs": [
    {
     "name": "stdout",
     "output_type": "stream",
     "text": [
      "encoded_sequences.shape:  (10000, 30, 4)\n",
      "observed_labels.shape: (10000, 1)\n"
     ]
    }
   ],
   "source": [
    "from load_preprocess_data import _one_hot_encode_conv1d\n",
    "\n",
    "encoded_sequences = []\n",
    "observed_labels = []\n",
    "for sequence, observed_label in zip(df_training['sequence'], df_training['observed_label']):\n",
    "    encoded_sequences.append(_one_hot_encode_conv1d(sequence))\n",
    "    observed_labels.append([observed_label])\n",
    "encoded_sequences = np.array(encoded_sequences)\n",
    "observed_labels = np.array(observed_labels)\n",
    "print('encoded_sequences.shape: ', encoded_sequences.shape)\n",
    "print('observed_labels.shape:', observed_labels.shape)"
   ]
  },
  {
   "cell_type": "markdown",
   "metadata": {},
   "source": [
    "Since the positive examples appear at the head of the list of examples, and the negative examples at the tail, the data must be shuffled before splitting it into training and validation sets. [Keras will not shuffle before splitting](https://keras.io/getting-started/faq/#how-is-the-validation-split-computed), so we must shuffle the data ourselves. (Keras will however shuffle the training data at each epoch: [see here](https://keras.io/getting-started/faq/#is-the-data-shuffled-during-training).) "
   ]
  },
  {
   "cell_type": "code",
   "execution_count": 7,
   "metadata": {},
   "outputs": [],
   "source": [
    "permutation = np.random.permutation(len(observed_labels))\n",
    "\n",
    "encoded_sequences = encoded_sequences[permutation, :, :]\n",
    "observed_labels = observed_labels[permutation, :]"
   ]
  },
  {
   "cell_type": "markdown",
   "metadata": {},
   "source": [
    "Hold out some data for testing later: "
   ]
  },
  {
   "cell_type": "code",
   "execution_count": 8,
   "metadata": {},
   "outputs": [],
   "source": [
    "test_set_size = min(1000, int(0.1*len(encoded_sequences)))\n",
    "\n",
    "encoded_sequences_test = encoded_sequences[:test_set_size, :, :]\n",
    "encoded_sequences = encoded_sequences[test_set_size:, :, :]\n",
    "\n",
    "observed_labels_test = observed_labels[:test_set_size, :]\n",
    "observed_labels = observed_labels[test_set_size:, :]"
   ]
  },
  {
   "cell_type": "markdown",
   "metadata": {},
   "source": [
    "## Building a convolution neural network \n",
    "\n",
    "Next, we set up a convolution neural network to map sequence to labels: "
   ]
  },
  {
   "cell_type": "code",
   "execution_count": 9,
   "metadata": {
    "scrolled": false
   },
   "outputs": [
    {
     "name": "stderr",
     "output_type": "stream",
     "text": [
      "Using TensorFlow backend.\n"
     ]
    },
    {
     "name": "stdout",
     "output_type": "stream",
     "text": [
      "kernel has dimension kernel_size X number_input_channels X number_output_channels\n",
      "shape of conv filter (18, 4, 1)\n",
      "\n"
     ]
    }
   ],
   "source": [
    "# https://github.com/keras-team/keras/issues/2102#issuecomment-233773649\n",
    "import keras.backend as K\n",
    "K.clear_session()\n",
    "\n",
    "from keras.models import Sequential\n",
    "from keras.layers import Conv1D, Dense, Flatten, Dropout\n",
    "\n",
    "model = Sequential()\n",
    "model.add(Conv1D(filters=1, \n",
    "                 kernel_size=motif.shape[1], \n",
    "                 input_shape=(sequence_length, 4), \n",
    "                 padding='valid',\n",
    "                 activation='relu'))\n",
    "\n",
    "print('kernel has dimension kernel_size X number_input_channels X number_output_channels')\n",
    "print('shape of conv filter', model.layers[0].get_weights()[0].shape)\n",
    "print('')\n",
    "\n",
    "# INVERTED DROPOUT\n",
    "# \"Dropout\" gets applied to the output of preceding layer (at training time only):\n",
    "# https://keras.io/layers/core/#dropout\n",
    "# weights are scaled by inverse of dropout rate (at training time only):\n",
    "# see: line 2277 of /anaconda2/envs/tensorflow3/lib/python3.5/site-packages/tensorflow/python/ops/nn_ops.py\n",
    "# also see: https://github.com/keras-team/keras/issues/3305#issuecomment-235359883\n",
    "# also see: https://www.coursera.org/lecture/deep-neural-network/dropout-regularization-eM33A\n",
    "model.add(Dropout(rate=0.5)) # including dropout moves the converged values of loss and accuracy into a \"reasonable\" range\n",
    "\n",
    "model.add(Flatten())\n",
    "model.add(Dense(units=1, activation='sigmoid'))\n",
    "\n",
    "model.compile(optimizer='adam',\n",
    "              loss='binary_crossentropy',\n",
    "              metrics=['acc']) \n",
    "# \"acc\" is an alias for \"binary_accuracy\" when \"loss\" is \"binary_crossentropy\":\n",
    "# https://github.com/keras-team/keras/blob/351e7a992d8f948e373e321252a35824da77ac35/keras/engine/training.py#L383\n",
    "# https://github.com/keras-team/keras/blob/cd44c6e0aaff4bb52a060d778025b32dbde09b44/keras/metrics.py#L26 "
   ]
  },
  {
   "cell_type": "markdown",
   "metadata": {},
   "source": [
    "## Training and evaluting the network"
   ]
  },
  {
   "cell_type": "markdown",
   "metadata": {},
   "source": [
    "Next, let's train the network we have built: "
   ]
  },
  {
   "cell_type": "code",
   "execution_count": 10,
   "metadata": {},
   "outputs": [],
   "source": [
    "from keras.callbacks import ModelCheckpoint\n",
    "checkpoint = ModelCheckpoint(filepath=\"model.best.hdf5\", \n",
    "                             save_weights_only=False,\n",
    "                             monitor='val_acc', \n",
    "                             verbose=0,\n",
    "                             save_best_only=True,\n",
    "                             period=2)\n",
    "\n",
    "from keras.callbacks import TensorBoard\n",
    "tensorboard = TensorBoard(log_dir='./logs', \n",
    "                          histogram_freq=1, \n",
    "                          write_graph=False, \n",
    "                          write_grads=True, \n",
    "                          write_images=True) # visualize model weights as images\n",
    "\n",
    "history = model.fit(x=encoded_sequences, \n",
    "                    y=observed_labels, \n",
    "                    validation_split=0.2, \n",
    "                    epochs=int(200*(10000/number_training_examples)),\n",
    "                    verbose=0,\n",
    "                    callbacks=[checkpoint, tensorboard]) "
   ]
  },
  {
   "cell_type": "markdown",
   "metadata": {},
   "source": [
    "... and monitor it's performance during the training process: "
   ]
  },
  {
   "cell_type": "code",
   "execution_count": 11,
   "metadata": {},
   "outputs": [
    {
     "data": {
      "image/png": "[encoded data removed]",
      "text/plain": [
       "<Figure size 720x360 with 1 Axes>"
      ]
     },
     "metadata": {
      "needs_background": "light"
     },
     "output_type": "display_data"
    },
    {
     "data": {
      "image/png": "[encoded data removed]",
      "text/plain": [
       "<Figure size 720x360 with 1 Axes>"
      ]
     },
     "metadata": {
      "needs_background": "light"
     },
     "output_type": "display_data"
    }
   ],
   "source": [
    "import matplotlib.pyplot as plt\n",
    "%matplotlib inline \n",
    "\n",
    "def plot_history(histories, key='loss', ymin=None, ymax=None):\n",
    "    plt.figure(figsize=(10,5))    \n",
    "    for name, history in histories:\n",
    "        validation_plot = plt.plot(history.epoch, \n",
    "                                   history.history['val_' + key], \n",
    "                                   '--', \n",
    "                                   label=name + ' validation ' + key)\n",
    "        plt.plot(history.epoch, \n",
    "                 history.history[key], \n",
    "                 color=validation_plot[0].get_color(),\n",
    "                 label=name + ' train ' + key)\n",
    "        plt.xlabel('epochs')\n",
    "        plt.legend()\n",
    "        plt.xlim([0, max(history.epoch)])\n",
    "        if ymin is not None:\n",
    "            plt.ylim(bottom=ymin)\n",
    "        if ymax is not None:\n",
    "            plt.ylim(top=ymax)\n",
    "    \n",
    "plot_history([('conv1d', history)], key='loss', ymin=0, ymax=0.1)\n",
    "plot_history([('conv1d', history)], key='acc', ymin=0.95, ymax=1)"
   ]
  },
  {
   "cell_type": "markdown",
   "metadata": {},
   "source": [
    "After convergence, the model performs very well! It's accuracy is far greater than 50%, which is the baseline accuracy associated with randomly predicting labels when the classes are balanced. This is expected since the model was designed to capture the way in which the training examples were labeled. \n",
    "\n",
    "Note: Training and validation losses (as computed above) may differ for a variety of reasons:\n",
    "\n",
    "* regularization (see [here](https://keras.io/getting-started/faq/#why-is-the-training-loss-much-higher-than-the-testing-loss) and [\"because [this] penalty is only added at training time, the loss for this network will be much higher at training than at test time\"](https://www.tensorflow.org/tutorials/keras/overfit_and_underfit#add_weight_regularization)\n",
    ")\n",
    "* the time during training at which the loss is evaluated (see [here](https://keras.io/getting-started/faq/#why-is-the-training-loss-much-higher-than-the-testing-loss)) \n",
    "\n",
    "These confounding factors may be controlled for by making predictions in exactly the same way for training, validation and test sets, e.g. using `model.predict` in Keras. "
   ]
  },
  {
   "cell_type": "markdown",
   "metadata": {},
   "source": [
    "The high performance indicated by the classification accuracy is confirmed by examining the confusion matrix (for a given threshold on the probability output of the network) and the ROC (which exhaustively varies that threshold): "
   ]
  },
  {
   "cell_type": "code",
   "execution_count": 12,
   "metadata": {},
   "outputs": [
    {
     "name": "stdout",
     "output_type": "stream",
     "text": [
      "Confusion matrix (threshold = 0.5):\n",
      " [[495   0]\n",
      " [  0 505]]\n"
     ]
    },
    {
     "data": {
      "image/png": "[encoded data removed]",
      "text/plain": [
       "<Figure size 432x288 with 1 Axes>"
      ]
     },
     "metadata": {
      "needs_background": "light"
     },
     "output_type": "display_data"
    }
   ],
   "source": [
    "predicted_probabilities_test = model.predict(encoded_sequences_test)\n",
    "\n",
    "from sklearn.metrics import confusion_matrix\n",
    "threshold = 0.5\n",
    "cm = confusion_matrix(y_true=observed_labels_test, \n",
    "                      y_pred=predicted_probabilities_test>threshold)\n",
    "print('Confusion matrix (threshold = {}):\\n'.format(threshold), cm)\n",
    "\n",
    "from sklearn.metrics import roc_curve\n",
    "fpr, tpr, thresholds = roc_curve(observed_labels_test, predicted_probabilities_test)\n",
    "plt.plot(fpr, tpr, '.', ms=10)\n",
    "_ = plt.xlabel('false positive rate')\n",
    "_ = plt.ylabel('true positive rate')\n",
    "_ = plt.xlim([-0.01, 1.01])\n",
    "_ = plt.ylim([-0.01, 1.01])"
   ]
  },
  {
   "cell_type": "markdown",
   "metadata": {},
   "source": [
    "## The convolution filter evolves towards the DNA motif  "
   ]
  },
  {
   "cell_type": "markdown",
   "metadata": {},
   "source": [
    "Since the model does so well at predicting the class labels, you'd expect that the convolution filter has evolved to match the motif. Let's visualize the weights in the learned convolution filter to test that idea: "
   ]
  },
  {
   "cell_type": "code",
   "execution_count": 13,
   "metadata": {},
   "outputs": [
    {
     "name": "stdout",
     "output_type": "stream",
     "text": [
      "filter:\n",
      "[[ 0.01672674 -0.0839506  -0.0072767   0.1767154   0.07910972 -0.02066657]\n",
      " [-0.2758025  -0.21280408 -0.42299104 -0.51185036 -0.76535803 -1.0164851 ]\n",
      " [ 0.07158128  0.28183347  0.1501312   0.2590602   0.15882955  0.13863553]\n",
      " [-0.18839203 -0.33351457 -0.26775005 -0.46758053 -0.54953253 -0.7587544 ]]\n",
      "\n",
      "[[ 0.43769595  0.03960497  0.21854523  0.36516246 -0.02401404 -0.0082265 ]\n",
      " [-1.5661482  -1.0591054  -1.1198648  -0.9090429  -0.81746745 -1.024664  ]\n",
      " [ 0.37246686  0.13829686 -0.01714911  0.30673736  0.46583793  0.17073819]\n",
      " [-1.4515307  -1.5159574  -0.9476156  -1.0487914  -0.80786556 -1.6981704 ]]\n",
      "\n",
      "[[ 7.5525671e-02  1.6523817e-03 -1.9854872e-01 -1.0020311e-01\n",
      "  -9.6415110e-02  2.1742511e-01]\n",
      " [-6.4124227e-01 -9.8125648e-01 -1.6761698e-01 -2.6551521e-01\n",
      "  -7.6185691e-01 -5.5979019e-01]\n",
      " [ 2.7977642e-01  6.8098122e-01  6.3068986e-01  5.6733006e-01\n",
      "   2.1536389e-01  1.7857824e-01]\n",
      " [-2.2946682e+00 -2.1659350e+00 -5.0796348e-01 -7.7134651e-01\n",
      "  -1.9482820e-01 -2.4110322e-01]]\n"
     ]
    },
    {
     "data": {
      "image/png": "[encoded data removed]",
      "text/plain": [
       "<Figure size 432x288 with 1 Axes>"
      ]
     },
     "metadata": {
      "needs_background": "light"
     },
     "output_type": "display_data"
    }
   ],
   "source": [
    "convolution_filter = model.layers[0].get_weights()[0].squeeze().transpose()\n",
    "print('filter:')\n",
    "break_point = 6\n",
    "print(convolution_filter[:,:break_point])\n",
    "print()\n",
    "print(convolution_filter[:,break_point:2*break_point])\n",
    "print()\n",
    "print(convolution_filter[:,2*break_point:])\n",
    "_ = plt.hist(convolution_filter.flatten()) "
   ]
  },
  {
   "cell_type": "code",
   "execution_count": 14,
   "metadata": {},
   "outputs": [
    {
     "name": "stdout",
     "output_type": "stream",
     "text": [
      "convolution with motif 258.05405344534665\n"
     ]
    },
    {
     "data": {
      "image/png": "[encoded data removed]",
      "text/plain": [
       "<Figure size 432x288 with 1 Axes>"
      ]
     },
     "metadata": {
      "needs_background": "light"
     },
     "output_type": "display_data"
    }
   ],
   "source": [
    "print('convolution with motif', np.sum(motif * convolution_filter))\n",
    "\n",
    "def generate_random_motif():\n",
    "    random_motif = \\\n",
    "    np.array([np.random.choice(['A', 'C', 'G', 'T'], \n",
    "                               size=1, \n",
    "                               p=np.array([1,1,1,1])/4.0) \n",
    "              for position in range(motif.shape[1])]).transpose()\n",
    "    return _one_hot_encode_conv1d(''.join(random_motif.squeeze())).transpose()\n",
    "\n",
    "random_motifs_convolutions = []\n",
    "for _ in range(1000): \n",
    "    random_motifs_convolutions.append(np.sum(generate_random_motif() * convolution_filter))\n",
    "_ = plt.hist(random_motifs_convolutions) "
   ]
  },
  {
   "cell_type": "code",
   "execution_count": 22,
   "metadata": {},
   "outputs": [
    {
     "name": "stdout",
     "output_type": "stream",
     "text": [
      "intermediate_layer_model\n",
      "[[[2.6488395]\n",
      "  [2.8204257]\n",
      "  [1.8476961]\n",
      "  [1.9153414]\n",
      "  [3.259085 ]\n",
      "  [3.3386934]\n",
      "  [2.3423338]\n",
      "  [2.2238784]\n",
      "  [3.1123357]\n",
      "  [3.9078135]\n",
      "  [2.0807476]\n",
      "  [1.4452319]\n",
      "  [0.       ]]]\n",
      "true label [1]\n"
     ]
    }
   ],
   "source": [
    "from keras.models import Model\n",
    "intermediate_layer_model = Model(inputs=model.input,\n",
    "                                 outputs=model.layers[0].output)\n",
    "example_index = 11\n",
    "print('intermediate_layer_model') \n",
    "print(intermediate_layer_model.predict(np.array([encoded_sequences_test[example_index]])))\n",
    "print('true label', observed_labels_test[example_index])"
   ]
  },
  {
   "cell_type": "code",
   "execution_count": 16,
   "metadata": {},
   "outputs": [
    {
     "name": "stdout",
     "output_type": "stream",
     "text": [
      "bias: -5.739015102386475\n"
     ]
    },
    {
     "data": {
      "image/png": "[encoded data removed]",
      "text/plain": [
       "<Figure size 432x288 with 1 Axes>"
      ]
     },
     "metadata": {
      "needs_background": "light"
     },
     "output_type": "display_data"
    }
   ],
   "source": [
    "weights = model.layers[3].get_weights()[0]\n",
    "_ = plt.plot(weights)\n",
    "print('bias:', float(model.layers[3].get_weights()[1]))"
   ]
  },
  {
   "cell_type": "code",
   "execution_count": 17,
   "metadata": {},
   "outputs": [
    {
     "data": {
      "image/png": "[encoded data removed]",
      "text/plain": [
       "<Figure size 432x288 with 2 Axes>"
      ]
     },
     "metadata": {
      "needs_background": "light"
     },
     "output_type": "display_data"
    }
   ],
   "source": [
    "def motif_sequence(matrix, model=None): \n",
    "    nucleotides = ['A','C','G','T']\n",
    "    if model: \n",
    "        bias = float(model.layers[3].get_weights()[1])\n",
    "        arg = np.argmin if bias > 0.0 else np.argmax\n",
    "    else: \n",
    "        arg = np.argmax\n",
    "    return ''.join([nucleotides[arg(matrix[:, position])] \n",
    "                    for position in range(matrix.shape[1])])\n",
    "\n",
    "plt.subplot(2, 1, 1)\n",
    "plt.imshow(motif)\n",
    "_ = plt.xticks(np.arange(0, 18, step=2))\n",
    "_ = plt.text(1, -1, '{:<30}{:<40}'.format('original motif', motif_sequence(motif)))\n",
    "\n",
    "plt.subplot(2, 1, 2)\n",
    "plt.imshow(convolution_filter)\n",
    "_ = plt.xticks(np.arange(0, 18, step=2))\n",
    "_ = plt.text(1, -1, '{:<30}{:<40}'.format('trained convolution filter', \n",
    "                                          motif_sequence(convolution_filter, model=model)))"
   ]
  },
  {
   "cell_type": "markdown",
   "metadata": {},
   "source": [
    "## Appendix: Various ways to visualize the model architecture"
   ]
  },
  {
   "cell_type": "code",
   "execution_count": 18,
   "metadata": {},
   "outputs": [
    {
     "name": "stdout",
     "output_type": "stream",
     "text": [
      "model.inputs [<tf.Tensor 'conv1d_1_input:0' shape=(?, 30, 4) dtype=float32>]\n",
      "model.outputs [<tf.Tensor 'dense_1/Sigmoid:0' shape=(?, 1) dtype=float32>]\n",
      "_________________________________________________________________\n",
      "Layer (type)                 Output Shape              Param #   \n",
      "=================================================================\n",
      "conv1d_1 (Conv1D)            (None, 13, 1)             73        \n",
      "_________________________________________________________________\n",
      "dropout_1 (Dropout)          (None, 13, 1)             0         \n",
      "_________________________________________________________________\n",
      "flatten_1 (Flatten)          (None, 13)                0         \n",
      "_________________________________________________________________\n",
      "dense_1 (Dense)              (None, 1)                 14        \n",
      "=================================================================\n",
      "Total params: 87\n",
      "Trainable params: 87\n",
      "Non-trainable params: 0\n",
      "_________________________________________________________________\n"
     ]
    }
   ],
   "source": [
    "print('model.inputs', model.inputs)\n",
    "print('model.outputs', model.outputs)\n",
    "model.summary()\n",
    "\n",
    "from contextlib import redirect_stdout\n",
    "with open('model.summary.txt', 'w') as f:\n",
    "    with redirect_stdout(f):\n",
    "        model.summary()"
   ]
  },
  {
   "cell_type": "code",
   "execution_count": 19,
   "metadata": {},
   "outputs": [
    {
     "data": {
      "image/svg+xml": [
       "<svg height=\"337pt\" viewBox=\"0.00 0.00 135.60 337.00\" width=\"136pt\" xmlns=\"http://www.w3.org/2000/svg\" xmlns:xlink=\"http://www.w3.org/1999/xlink\">\n",
       "<g class=\"graph\" id=\"graph0\" transform=\"scale(1 1) rotate(0) translate(4 333)\">\n",
       "<title>G</title>\n",
       "<polygon fill=\"#ffffff\" points=\"-4,4 -4,-333 131.6035,-333 131.6035,4 -4,4\" stroke=\"transparent\"/>\n",
       "<!-- 4630196464 -->\n",
       "<g class=\"node\" id=\"node1\">\n",
       "<title>4630196464</title>\n",
       "<polygon fill=\"none\" points=\".7759,-219.5 .7759,-255.5 126.8276,-255.5 126.8276,-219.5 .7759,-219.5\" stroke=\"#000000\"/>\n",
       "<text fill=\"#000000\" font-family=\"Times,serif\" font-size=\"14.00\" text-anchor=\"middle\" x=\"63.8018\" y=\"-233.3\">conv1d_1: Conv1D</text>\n",
       "</g>\n",
       "<!-- 47852764800 -->\n",
       "<g class=\"node\" id=\"node2\">\n",
       "<title>47852764800</title>\n",
       "<polygon fill=\"none\" points=\"0,-146.5 0,-182.5 127.6035,-182.5 127.6035,-146.5 0,-146.5\" stroke=\"#000000\"/>\n",
       "<text fill=\"#000000\" font-family=\"Times,serif\" font-size=\"14.00\" text-anchor=\"middle\" x=\"63.8018\" y=\"-160.3\">dropout_1: Dropout</text>\n",
       "</g>\n",
       "<!-- 4630196464&#45;&gt;47852764800 -->\n",
       "<g class=\"edge\" id=\"edge2\">\n",
       "<title>4630196464-&gt;47852764800</title>\n",
       "<path d=\"M63.8018,-219.4551C63.8018,-211.3828 63.8018,-201.6764 63.8018,-192.6817\" fill=\"none\" stroke=\"#000000\"/>\n",
       "<polygon fill=\"#000000\" points=\"67.3019,-192.5903 63.8018,-182.5904 60.3019,-192.5904 67.3019,-192.5903\" stroke=\"#000000\"/>\n",
       "</g>\n",
       "<!-- 4630196576 -->\n",
       "<g class=\"node\" id=\"node3\">\n",
       "<title>4630196576</title>\n",
       "<polygon fill=\"none\" points=\"8.1689,-73.5 8.1689,-109.5 119.4346,-109.5 119.4346,-73.5 8.1689,-73.5\" stroke=\"#000000\"/>\n",
       "<text fill=\"#000000\" font-family=\"Times,serif\" font-size=\"14.00\" text-anchor=\"middle\" x=\"63.8018\" y=\"-87.3\">flatten_1: Flatten</text>\n",
       "</g>\n",
       "<!-- 47852764800&#45;&gt;4630196576 -->\n",
       "<g class=\"edge\" id=\"edge3\">\n",
       "<title>47852764800-&gt;4630196576</title>\n",
       "<path d=\"M63.8018,-146.4551C63.8018,-138.3828 63.8018,-128.6764 63.8018,-119.6817\" fill=\"none\" stroke=\"#000000\"/>\n",
       "<polygon fill=\"#000000\" points=\"67.3019,-119.5903 63.8018,-109.5904 60.3019,-119.5904 67.3019,-119.5903\" stroke=\"#000000\"/>\n",
       "</g>\n",
       "<!-- 47852876632 -->\n",
       "<g class=\"node\" id=\"node4\">\n",
       "<title>47852876632</title>\n",
       "<polygon fill=\"none\" points=\"11.6758,-.5 11.6758,-36.5 115.9277,-36.5 115.9277,-.5 11.6758,-.5\" stroke=\"#000000\"/>\n",
       "<text fill=\"#000000\" font-family=\"Times,serif\" font-size=\"14.00\" text-anchor=\"middle\" x=\"63.8018\" y=\"-14.3\">dense_1: Dense</text>\n",
       "</g>\n",
       "<!-- 4630196576&#45;&gt;47852876632 -->\n",
       "<g class=\"edge\" id=\"edge4\">\n",
       "<title>4630196576-&gt;47852876632</title>\n",
       "<path d=\"M63.8018,-73.4551C63.8018,-65.3828 63.8018,-55.6764 63.8018,-46.6817\" fill=\"none\" stroke=\"#000000\"/>\n",
       "<polygon fill=\"#000000\" points=\"67.3019,-46.5903 63.8018,-36.5904 60.3019,-46.5904 67.3019,-46.5903\" stroke=\"#000000\"/>\n",
       "</g>\n",
       "<!-- 47852764856 -->\n",
       "<g class=\"node\" id=\"node5\">\n",
       "<title>47852764856</title>\n",
       "<polygon fill=\"none\" points=\"17.3018,-292.5 17.3018,-328.5 110.3018,-328.5 110.3018,-292.5 17.3018,-292.5\" stroke=\"#000000\"/>\n",
       "<text fill=\"#000000\" font-family=\"Times,serif\" font-size=\"14.00\" text-anchor=\"middle\" x=\"63.8018\" y=\"-306.3\">47852764856</text>\n",
       "</g>\n",
       "<!-- 47852764856&#45;&gt;4630196464 -->\n",
       "<g class=\"edge\" id=\"edge1\">\n",
       "<title>47852764856-&gt;4630196464</title>\n",
       "<path d=\"M63.8018,-292.4551C63.8018,-284.3828 63.8018,-274.6764 63.8018,-265.6817\" fill=\"none\" stroke=\"#000000\"/>\n",
       "<polygon fill=\"#000000\" points=\"67.3019,-265.5903 63.8018,-255.5904 60.3019,-265.5904 67.3019,-265.5903\" stroke=\"#000000\"/>\n",
       "</g>\n",
       "</g>\n",
       "</svg>"
      ],
      "text/plain": [
       "<IPython.core.display.SVG object>"
      ]
     },
     "execution_count": 19,
     "metadata": {},
     "output_type": "execute_result"
    }
   ],
   "source": [
    "from IPython.display import SVG\n",
    "from keras.utils.vis_utils import model_to_dot\n",
    "\n",
    "SVG(model_to_dot(model).create(prog='dot', format='svg'))"
   ]
  }
 ],
 "metadata": {
  "kernelspec": {
   "display_name": "Python 3",
   "language": "python",
   "name": "python3"
  },
  "language_info": {
   "codemirror_mode": {
    "name": "ipython",
    "version": 3
   },
   "file_extension": ".py",
   "mimetype": "text/x-python",
   "name": "python",
   "nbconvert_exporter": "python",
   "pygments_lexer": "ipython3",
   "version": "3.5.6"
  },
  "toc": {
   "base_numbering": 1,
   "nav_menu": {
    "height": "270px",
    "width": "343px"
   },
   "number_sections": true,
   "sideBar": true,
   "skip_h1_title": false,
   "title_cell": "Table of Contents",
   "title_sidebar": "Contents",
   "toc_cell": true,
   "toc_position": {
    "height": "calc(100% - 180px)",
    "left": "10px",
    "top": "150px",
    "width": "237.75px"
   },
   "toc_section_display": true,
   "toc_window_display": true
  }
 },
 "nbformat": 4,
 "nbformat_minor": 1
}
