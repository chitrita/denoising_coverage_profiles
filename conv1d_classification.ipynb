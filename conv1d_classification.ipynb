{
 "cells": [
  {
   "cell_type": "markdown",
   "metadata": {
    "toc": true
   },
   "source": [
    "<h1>Table of Contents<span class=\"tocSkip\"></span></h1>\n",
    "<div class=\"toc\"><ul class=\"toc-item\"><li><span><a href=\"#Discovering-DNA-motifs-using-convolutional-neural-networks\" data-toc-modified-id=\"Discovering-DNA-motifs-using-convolutional-neural-networks-1\"><span class=\"toc-item-num\">1&nbsp;&nbsp;</span>Discovering DNA motifs using convolutional neural networks</a></span></li><li><span><a href=\"#EWSR1-motif\" data-toc-modified-id=\"EWSR1-motif-2\"><span class=\"toc-item-num\">2&nbsp;&nbsp;</span>EWSR1 motif</a></span></li><li><span><a href=\"#Generating-training-examples\" data-toc-modified-id=\"Generating-training-examples-3\"><span class=\"toc-item-num\">3&nbsp;&nbsp;</span>Generating training examples</a></span></li><li><span><a href=\"#Preprocessing-the-data\" data-toc-modified-id=\"Preprocessing-the-data-4\"><span class=\"toc-item-num\">4&nbsp;&nbsp;</span>Preprocessing the data</a></span></li><li><span><a href=\"#Building-a-convolution-neural-network\" data-toc-modified-id=\"Building-a-convolution-neural-network-5\"><span class=\"toc-item-num\">5&nbsp;&nbsp;</span>Building a convolution neural network</a></span></li><li><span><a href=\"#Training-and-evaluting-the-network\" data-toc-modified-id=\"Training-and-evaluting-the-network-6\"><span class=\"toc-item-num\">6&nbsp;&nbsp;</span>Training and evaluting the network</a></span></li><li><span><a href=\"#The-convolution-filter-captures-most-of-the-DNA-motif\" data-toc-modified-id=\"The-convolution-filter-captures-most-of-the-DNA-motif-7\"><span class=\"toc-item-num\">7&nbsp;&nbsp;</span>The convolution filter captures most of the DNA motif</a></span></li><li><span><a href=\"#Appendix:-Various-ways-to-visualize-the-model-architecture\" data-toc-modified-id=\"Appendix:-Various-ways-to-visualize-the-model-architecture-8\"><span class=\"toc-item-num\">8&nbsp;&nbsp;</span>Appendix: Various ways to visualize the model architecture</a></span></li></ul></div>"
   ]
  },
  {
   "cell_type": "markdown",
   "metadata": {},
   "source": [
    "Based upon [Gökçen Eraslan's PyCon talk](https://github.com/gokceneraslan/dnaconvnet-notebook)."
   ]
  },
  {
   "cell_type": "markdown",
   "metadata": {},
   "source": [
    "## Discovering DNA motifs using convolutional neural networks\n",
    "\n",
    "The goal is to train a convolutional neural network to recognize a given DNA sequence motif given a  synthetic set of training examples (sequences) that have been labeled according to whether they contain the motif or not. In other words, the convolution filter of the network should evolve during training towards the known \"frequency matrix\" of the motif. \n",
    "\n",
    "## EWSR1 motif \n",
    "\n",
    "We fetch the following motif from [JASPAR](http://jaspar.genereg.net/cgi-bin/jaspar_db.pl?ID=MA0149.1&rm=present&collection=CORE):\n",
    "![title](http://jaspar.genereg.net/static/logos/MA0149.1.BIG.png)\n",
    "\n",
    "\n",
    "This motif is a visualization of the \"frequency matrix\":"
   ]
  },
  {
   "cell_type": "code",
   "execution_count": 1,
   "metadata": {},
   "outputs": [],
   "source": [
    "import numpy as np\n",
    "motif = np.array([[   0,   2, 104, 104,   1,   2, 103, 102,   0,   0,  99, 105,   0,   0, 100, 102,   5,   3],\n",
    "                  [   0,   0,   0,   0,   0,   0,   0,   0,   0,   2,   4,   0,   0,   2,   3,   0,   0,   3],\n",
    "                  [ 105, 103,   1,   1, 104, 102,   2,   3, 104, 103,   2,   0, 105, 103,   0,   2,  97,  97],\n",
    "                  [   0,   0,   0,   0,   0,   1,   0,   0,   1,   0,   0,   0,   0,   0,   2,   1,   3,   2]])"
   ]
  },
  {
   "cell_type": "markdown",
   "metadata": {},
   "source": [
    "Each row in this matrix corresponds to one of the four possible nucleotides and the columns correspond to  positions within the binding site of the transcription factor. The matrix elements indicate the frequency with which the corresponding nucleotide was observed at the corresponding position in the binding site. "
   ]
  },
  {
   "cell_type": "markdown",
   "metadata": {},
   "source": [
    "\n",
    "## Generating training examples \n",
    "\n",
    "We wish to create a set of \"positive\" training examples in which the motif is embedded. We can do this by extending the frequency matrix upstream and downstream of the binding site using equal frequencies for each of the possible nucleotides: "
   ]
  },
  {
   "cell_type": "code",
   "execution_count": 2,
   "metadata": {},
   "outputs": [],
   "source": [
    "sequence_length = 30\n",
    "motif_plus_background = np.hstack([np.ones((4, (sequence_length-motif.shape[1])//2)), \n",
    "                                   motif,\n",
    "                                   np.ones((4, (sequence_length-motif.shape[1])//2))])\n",
    "\n",
    "number_training_examples = 10000\n",
    "training_examples_positive = \\\n",
    "np.array([np.random.choice(['A', 'C', 'G', 'T'], \n",
    "                           size=number_training_examples//2, \n",
    "                           p=motif_plus_background[:,position]/float(np.sum(motif_plus_background[:,position]))) \n",
    "          for position in range(sequence_length)]).transpose()\n",
    "\n",
    "sequences_positive = []\n",
    "for training_example_positive in training_examples_positive: \n",
    "    sequences_positive.append(''.join(training_example_positive))\n",
    "    \n",
    "labels_positive = np.ones(shape=len(sequences_positive), dtype=int)"
   ]
  },
  {
   "cell_type": "markdown",
   "metadata": {},
   "source": [
    "Now let's produce the negative training examples by sampling nucleotides with equal frequency, regardless of their position in the sequence: "
   ]
  },
  {
   "cell_type": "code",
   "execution_count": 3,
   "metadata": {
    "scrolled": true
   },
   "outputs": [],
   "source": [
    "training_examples_negative = \\\n",
    "np.array([np.random.choice(['A', 'C', 'G', 'T'], \n",
    "                           size=number_training_examples//2, \n",
    "                           p=np.array([1,1,1,1])/4.0) \n",
    "          for position in range(sequence_length)]).transpose()\n",
    "\n",
    "sequences_negative = []\n",
    "for training_example_negative in training_examples_negative: \n",
    "    sequences_negative.append(''.join(training_example_negative))\n",
    "\n",
    "labels_negative = np.zeros(shape=len(sequences_negative), dtype=int)"
   ]
  },
  {
   "cell_type": "markdown",
   "metadata": {},
   "source": [
    "Wrap the examples up in a dataframe to visualize the positive examples..."
   ]
  },
  {
   "cell_type": "code",
   "execution_count": 4,
   "metadata": {},
   "outputs": [
    {
     "data": {
      "text/html": [
       "<div>\n",
       "<style scoped>\n",
       "    .dataframe tbody tr th:only-of-type {\n",
       "        vertical-align: middle;\n",
       "    }\n",
       "\n",
       "    .dataframe tbody tr th {\n",
       "        vertical-align: top;\n",
       "    }\n",
       "\n",
       "    .dataframe thead th {\n",
       "        text-align: right;\n",
       "    }\n",
       "</style>\n",
       "<table border=\"1\" class=\"dataframe\">\n",
       "  <thead>\n",
       "    <tr style=\"text-align: right;\">\n",
       "      <th></th>\n",
       "      <th>sequence</th>\n",
       "      <th>observed_label</th>\n",
       "    </tr>\n",
       "  </thead>\n",
       "  <tbody>\n",
       "    <tr>\n",
       "      <th>0</th>\n",
       "      <td>ACCCCAGGAAGGAAGGAAGGAAGGGTTGCC</td>\n",
       "      <td>1</td>\n",
       "    </tr>\n",
       "    <tr>\n",
       "      <th>1</th>\n",
       "      <td>GAGTGGGGAAGGAAGGAAGGAAGGAACCGA</td>\n",
       "      <td>1</td>\n",
       "    </tr>\n",
       "    <tr>\n",
       "      <th>2</th>\n",
       "      <td>GCGTAGGGAAGGAAGGAAGGAAGGCTTCCG</td>\n",
       "      <td>1</td>\n",
       "    </tr>\n",
       "    <tr>\n",
       "      <th>3</th>\n",
       "      <td>ATGGTGGGAAGGAGGGAAGGAAGGAGGTTG</td>\n",
       "      <td>1</td>\n",
       "    </tr>\n",
       "    <tr>\n",
       "      <th>4</th>\n",
       "      <td>ACTTCAGGAAGTAAGGAAGGAAGGTTGCTG</td>\n",
       "      <td>1</td>\n",
       "    </tr>\n",
       "  </tbody>\n",
       "</table>\n",
       "</div>"
      ],
      "text/plain": [
       "                         sequence  observed_label\n",
       "0  ACCCCAGGAAGGAAGGAAGGAAGGGTTGCC               1\n",
       "1  GAGTGGGGAAGGAAGGAAGGAAGGAACCGA               1\n",
       "2  GCGTAGGGAAGGAAGGAAGGAAGGCTTCCG               1\n",
       "3  ATGGTGGGAAGGAGGGAAGGAAGGAGGTTG               1\n",
       "4  ACTTCAGGAAGTAAGGAAGGAAGGTTGCTG               1"
      ]
     },
     "execution_count": 4,
     "metadata": {},
     "output_type": "execute_result"
    }
   ],
   "source": [
    "import pandas as pd\n",
    "from collections import OrderedDict\n",
    "df_training = pd.DataFrame(OrderedDict([('sequence', np.concatenate((sequences_positive, sequences_negative))),\n",
    "                                        ('observed_label', np.concatenate((labels_positive, labels_negative)))]))\n",
    "df_training[:5]"
   ]
  },
  {
   "cell_type": "markdown",
   "metadata": {},
   "source": [
    "... and the negative examples: "
   ]
  },
  {
   "cell_type": "code",
   "execution_count": 5,
   "metadata": {},
   "outputs": [
    {
     "data": {
      "text/html": [
       "<div>\n",
       "<style scoped>\n",
       "    .dataframe tbody tr th:only-of-type {\n",
       "        vertical-align: middle;\n",
       "    }\n",
       "\n",
       "    .dataframe tbody tr th {\n",
       "        vertical-align: top;\n",
       "    }\n",
       "\n",
       "    .dataframe thead th {\n",
       "        text-align: right;\n",
       "    }\n",
       "</style>\n",
       "<table border=\"1\" class=\"dataframe\">\n",
       "  <thead>\n",
       "    <tr style=\"text-align: right;\">\n",
       "      <th></th>\n",
       "      <th>sequence</th>\n",
       "      <th>observed_label</th>\n",
       "    </tr>\n",
       "  </thead>\n",
       "  <tbody>\n",
       "    <tr>\n",
       "      <th>5000</th>\n",
       "      <td>GGTGTAAATAAGAGTAATTAACAGACTTCC</td>\n",
       "      <td>0</td>\n",
       "    </tr>\n",
       "    <tr>\n",
       "      <th>5001</th>\n",
       "      <td>CTGCAAGCTAACTTGGACCGGTACGGTTTG</td>\n",
       "      <td>0</td>\n",
       "    </tr>\n",
       "    <tr>\n",
       "      <th>5002</th>\n",
       "      <td>GGCGCTCCCTTGCCACAACATGTTCTGCAC</td>\n",
       "      <td>0</td>\n",
       "    </tr>\n",
       "    <tr>\n",
       "      <th>5003</th>\n",
       "      <td>TCGAGTGAAAGACCTCATTTTGTTGGTTAT</td>\n",
       "      <td>0</td>\n",
       "    </tr>\n",
       "    <tr>\n",
       "      <th>5004</th>\n",
       "      <td>TAAAACCCCAACCGGAGGCCCCGCGGTAAC</td>\n",
       "      <td>0</td>\n",
       "    </tr>\n",
       "  </tbody>\n",
       "</table>\n",
       "</div>"
      ],
      "text/plain": [
       "                            sequence  observed_label\n",
       "5000  GGTGTAAATAAGAGTAATTAACAGACTTCC               0\n",
       "5001  CTGCAAGCTAACTTGGACCGGTACGGTTTG               0\n",
       "5002  GGCGCTCCCTTGCCACAACATGTTCTGCAC               0\n",
       "5003  TCGAGTGAAAGACCTCATTTTGTTGGTTAT               0\n",
       "5004  TAAAACCCCAACCGGAGGCCCCGCGGTAAC               0"
      ]
     },
     "execution_count": 5,
     "metadata": {},
     "output_type": "execute_result"
    }
   ],
   "source": [
    "half_way = len(df_training)//2\n",
    "df_training[half_way:half_way+5]"
   ]
  },
  {
   "cell_type": "markdown",
   "metadata": {},
   "source": [
    "## Preprocessing the data\n",
    "\n",
    "Since the sequences are categorical data, we must encode them as numbers before passing them into a function that maps them to class labels. We use \"one-hot encoding\", creating a tensor with dimensions `(number_examples, sequence_length, number_channels)` : "
   ]
  },
  {
   "cell_type": "code",
   "execution_count": 6,
   "metadata": {},
   "outputs": [
    {
     "name": "stdout",
     "output_type": "stream",
     "text": [
      "encoded_sequences.shape:  (10000, 30, 4)\n",
      "observed_labels.shape: (10000, 1)\n"
     ]
    }
   ],
   "source": [
    "from load_preprocess_data import _one_hot_encode_conv1d\n",
    "\n",
    "encoded_sequences = []\n",
    "observed_labels = []\n",
    "for sequence, observed_label in zip(df_training['sequence'], df_training['observed_label']):\n",
    "    encoded_sequences.append(_one_hot_encode_conv1d(sequence))\n",
    "    observed_labels.append([observed_label])\n",
    "encoded_sequences = np.array(encoded_sequences)\n",
    "observed_labels = np.array(observed_labels)\n",
    "print('encoded_sequences.shape: ', encoded_sequences.shape)\n",
    "print('observed_labels.shape:', observed_labels.shape)"
   ]
  },
  {
   "cell_type": "markdown",
   "metadata": {},
   "source": [
    "Since the positive examples appear at the head of the list of examples, and the negative examples at the tail, the data must be shuffled before splitting it into training and validation sets. [Keras will not shuffle before splitting](https://keras.io/getting-started/faq/#how-is-the-validation-split-computed), so we must shuffle the data ourselves. (Keras will however shuffle the training data at each epoch: [see here](https://keras.io/getting-started/faq/#is-the-data-shuffled-during-training).) "
   ]
  },
  {
   "cell_type": "code",
   "execution_count": 7,
   "metadata": {},
   "outputs": [],
   "source": [
    "permutation = np.random.permutation(len(observed_labels))\n",
    "\n",
    "encoded_sequences = encoded_sequences[permutation, :, :]\n",
    "observed_labels = observed_labels[permutation, :]"
   ]
  },
  {
   "cell_type": "markdown",
   "metadata": {},
   "source": [
    "Hold out some data for testing later: "
   ]
  },
  {
   "cell_type": "code",
   "execution_count": 8,
   "metadata": {},
   "outputs": [],
   "source": [
    "test_set_size = min(1000, int(0.1*len(encoded_sequences)))\n",
    "\n",
    "encoded_sequences_test = encoded_sequences[:test_set_size, :, :]\n",
    "encoded_sequences = encoded_sequences[test_set_size:, :, :]\n",
    "\n",
    "observed_labels_test = observed_labels[:test_set_size, :]\n",
    "observed_labels = observed_labels[test_set_size:, :]"
   ]
  },
  {
   "cell_type": "markdown",
   "metadata": {},
   "source": [
    "## Building a convolution neural network \n",
    "\n",
    "Next, we set up a convolution neural network to map sequence to labels: "
   ]
  },
  {
   "cell_type": "code",
   "execution_count": 9,
   "metadata": {
    "scrolled": false
   },
   "outputs": [
    {
     "name": "stderr",
     "output_type": "stream",
     "text": [
      "Using TensorFlow backend.\n"
     ]
    },
    {
     "name": "stdout",
     "output_type": "stream",
     "text": [
      "kernel has dimension kernel_size X number_input_channels X number_output_channels\n",
      "shape of conv filter (18, 4, 1)\n",
      "\n",
      "model.inputs [<tf.Tensor 'conv1d_1_input:0' shape=(?, 30, 4) dtype=float32>]\n",
      "model.outputs [<tf.Tensor 'dense_1/Sigmoid:0' shape=(?, 1) dtype=float32>]\n",
      "_________________________________________________________________\n",
      "Layer (type)                 Output Shape              Param #   \n",
      "=================================================================\n",
      "conv1d_1 (Conv1D)            (None, 13, 1)             73        \n",
      "_________________________________________________________________\n",
      "dropout_1 (Dropout)          (None, 13, 1)             0         \n",
      "_________________________________________________________________\n",
      "flatten_1 (Flatten)          (None, 13)                0         \n",
      "_________________________________________________________________\n",
      "dense_1 (Dense)              (None, 1)                 14        \n",
      "=================================================================\n",
      "Total params: 87\n",
      "Trainable params: 87\n",
      "Non-trainable params: 0\n",
      "_________________________________________________________________\n"
     ]
    }
   ],
   "source": [
    "# https://github.com/keras-team/keras/issues/2102#issuecomment-233773649\n",
    "import keras.backend as K\n",
    "K.clear_session()\n",
    "\n",
    "from keras.models import Sequential\n",
    "from keras.layers import Conv1D, Dense, Flatten, Dropout\n",
    "\n",
    "model = Sequential()\n",
    "model.add(Conv1D(filters=1, \n",
    "                 kernel_size=motif.shape[1], \n",
    "                 input_shape=(sequence_length, 4), \n",
    "                 padding='valid',\n",
    "                 activation='relu'))\n",
    "\n",
    "print('kernel has dimension kernel_size X number_input_channels X number_output_channels')\n",
    "print('shape of conv filter', model.layers[0].get_weights()[0].shape)\n",
    "print('')\n",
    "\n",
    "# INVERTED DROPOUT\n",
    "# \"Dropout\" gets applied to the output of preceding layer (at training time only):\n",
    "# https://keras.io/layers/core/#dropout\n",
    "# weights are scaled by inverse of dropout rate (at training time only):\n",
    "# see: line 2277 of /anaconda2/envs/tensorflow3/lib/python3.5/site-packages/tensorflow/python/ops/nn_ops.py\n",
    "# also see: https://github.com/keras-team/keras/issues/3305#issuecomment-235359883\n",
    "# also see: https://www.coursera.org/lecture/deep-neural-network/dropout-regularization-eM33A\n",
    "model.add(Dropout(rate=0.5)) # including dropout moves the converged values of loss and accuracy into a \"reasonable\" range\n",
    "\n",
    "model.add(Flatten())\n",
    "model.add(Dense(units=1, activation='sigmoid'))\n",
    "\n",
    "model.compile(optimizer='adam',\n",
    "              loss='binary_crossentropy',\n",
    "              metrics=['acc']) \n",
    "# \"acc\" is an alias for \"binary_accuracy\" when \"loss\" is \"binary_crossentropy\":\n",
    "# https://github.com/keras-team/keras/blob/351e7a992d8f948e373e321252a35824da77ac35/keras/engine/training.py#L383\n",
    "# https://github.com/keras-team/keras/blob/cd44c6e0aaff4bb52a060d778025b32dbde09b44/keras/metrics.py#L26 \n",
    "\n",
    "print('model.inputs', model.inputs)\n",
    "print('model.outputs', model.outputs)\n",
    "model.summary()\n",
    "\n",
    "# save model summary to disk\n",
    "from contextlib import redirect_stdout\n",
    "with open('model.summary.txt', 'w') as f:\n",
    "    with redirect_stdout(f):\n",
    "        model.summary()"
   ]
  },
  {
   "cell_type": "markdown",
   "metadata": {},
   "source": [
    "## Training and evaluting the network"
   ]
  },
  {
   "cell_type": "markdown",
   "metadata": {},
   "source": [
    "Next, let's train the network we have built: "
   ]
  },
  {
   "cell_type": "code",
   "execution_count": 10,
   "metadata": {},
   "outputs": [],
   "source": [
    "from keras.callbacks import ModelCheckpoint\n",
    "checkpoint = ModelCheckpoint(filepath=\"model.best.hdf5\", \n",
    "                             save_weights_only=False,\n",
    "                             monitor='val_acc', \n",
    "                             verbose=0,\n",
    "                             save_best_only=True,\n",
    "                             period=2)\n",
    "\n",
    "from keras.callbacks import TensorBoard\n",
    "tensorboard = TensorBoard(log_dir='./logs', \n",
    "                          histogram_freq=1, \n",
    "                          write_graph=False, \n",
    "                          write_grads=True, \n",
    "                          write_images=True) # visualize model weights as images\n",
    "\n",
    "history = model.fit(x=encoded_sequences, \n",
    "                    y=observed_labels, \n",
    "                    validation_split=0.2, \n",
    "                    epochs=int(200*(10000/number_training_examples)),\n",
    "                    verbose=0,\n",
    "                    callbacks=[checkpoint, tensorboard]) "
   ]
  },
  {
   "cell_type": "markdown",
   "metadata": {},
   "source": [
    "... and monitor it's performance during the training process: "
   ]
  },
  {
   "cell_type": "code",
   "execution_count": 11,
   "metadata": {},
   "outputs": [
    {
     "data": {
      "image/png": "[encoded data removed]",
      "text/plain": [
       "<Figure size 720x360 with 1 Axes>"
      ]
     },
     "metadata": {
      "needs_background": "light"
     },
     "output_type": "display_data"
    },
    {
     "data": {
      "image/png": "[encoded data removed]",
      "text/plain": [
       "<Figure size 720x360 with 1 Axes>"
      ]
     },
     "metadata": {
      "needs_background": "light"
     },
     "output_type": "display_data"
    }
   ],
   "source": [
    "import matplotlib.pyplot as plt\n",
    "%matplotlib inline \n",
    "\n",
    "def plot_history(histories, key='loss', ymin=None, ymax=None):\n",
    "    plt.figure(figsize=(10,5))    \n",
    "    for name, history in histories:\n",
    "        validation_plot = plt.plot(history.epoch, \n",
    "                                   history.history['val_' + key], \n",
    "                                   '--', \n",
    "                                   label=name + ' validation ' + key)\n",
    "        plt.plot(history.epoch, \n",
    "                 history.history[key], \n",
    "                 color=validation_plot[0].get_color(),\n",
    "                 label=name + ' train ' + key)\n",
    "        plt.xlabel('epochs')\n",
    "        plt.legend()\n",
    "        plt.xlim([0, max(history.epoch)])\n",
    "        if ymin is not None:\n",
    "            plt.ylim(bottom=ymin)\n",
    "        if ymax is not None:\n",
    "            plt.ylim(top=ymax)\n",
    "    \n",
    "plot_history([('conv1d', history)], key='loss', ymin=0, ymax=0.1)\n",
    "plot_history([('conv1d', history)], key='acc', ymin=0.95, ymax=1)"
   ]
  },
  {
   "cell_type": "markdown",
   "metadata": {},
   "source": [
    "After convergence, the model performs very well! It's accuracy is far greater than 50%, which is the baseline accuracy associated with randomly predicting labels when the classes are balanced. This is expected since the model was designed to capture the way in which the training examples were labeled. \n",
    "\n",
    "Note: Training and validation losses (as computed above) may differ for a variety of reasons:\n",
    "\n",
    "* regularization (see [here](https://keras.io/getting-started/faq/#why-is-the-training-loss-much-higher-than-the-testing-loss) and [\"because [this] penalty is only added at training time, the loss for this network will be much higher at training than at test time\"](https://www.tensorflow.org/tutorials/keras/overfit_and_underfit#add_weight_regularization)\n",
    ")\n",
    "* the time during training at which the loss is evaluated (see [here](https://keras.io/getting-started/faq/#why-is-the-training-loss-much-higher-than-the-testing-loss)) \n",
    "\n",
    "These confounding factors may be controlled for by making predictions in exactly the same way for training, validation and test sets, e.g. using `model.predict` in Keras. "
   ]
  },
  {
   "cell_type": "markdown",
   "metadata": {},
   "source": [
    "The high performance indicated by the classification accuracy is confirmed by examining the confusion matrix (for a given threshold on the probability output of the network) and the ROC (which exhaustively varies that threshold): "
   ]
  },
  {
   "cell_type": "code",
   "execution_count": 12,
   "metadata": {},
   "outputs": [
    {
     "name": "stdout",
     "output_type": "stream",
     "text": [
      "Confusion matrix (threshold = 0.5):\n",
      " [[4511    0]\n",
      " [   0 4489]]\n"
     ]
    },
    {
     "data": {
      "image/png": "[encoded data removed]",
      "text/plain": [
       "<Figure size 432x288 with 1 Axes>"
      ]
     },
     "metadata": {
      "needs_background": "light"
     },
     "output_type": "display_data"
    }
   ],
   "source": [
    "predicted_probabilities = model.predict(encoded_sequences)\n",
    "\n",
    "from sklearn.metrics import confusion_matrix\n",
    "threshold = 0.5\n",
    "cm = confusion_matrix(y_true=observed_labels, \n",
    "                      y_pred=predicted_probabilities>threshold)\n",
    "print('Confusion matrix (threshold = {}):\\n'.format(threshold), cm)\n",
    "\n",
    "from sklearn.metrics import roc_curve\n",
    "fpr, tpr, thresholds = roc_curve(observed_labels, predicted_probabilities)\n",
    "plt.plot(fpr, tpr, '.', ms=10)\n",
    "_ = plt.xlabel('false positive rate')\n",
    "_ = plt.ylabel('true positive rate')\n",
    "_ = plt.xlim([-0.01, 1.01])\n",
    "_ = plt.ylim([-0.01, 1.01])"
   ]
  },
  {
   "cell_type": "markdown",
   "metadata": {},
   "source": [
    "## The convolution filter captures most of the DNA motif  "
   ]
  },
  {
   "cell_type": "markdown",
   "metadata": {},
   "source": [
    "Since the model does so well at predicting the class labels, you'd expect that the convolution filter has evolved to match the motif, at least partially. Let's test that idea. \n",
    "\n"
   ]
  },
  {
   "cell_type": "code",
   "execution_count": 13,
   "metadata": {},
   "outputs": [
    {
     "name": "stdout",
     "output_type": "stream",
     "text": [
      "filter:\n",
      "[[-0.10998351 -0.5775335   0.02665563  0.6447328   0.31739864 -0.58295596]\n",
      " [ 0.08314294  0.540319    0.26208296  0.3415523   0.53123355  0.30546927]\n",
      " [ 0.07036136  0.5260216   0.14479302 -0.6876849   0.01773793  0.6223712 ]\n",
      " [ 0.3979342   0.29151022  0.3414374   0.38794047  0.2513338   0.2943823 ]]\n",
      "\n",
      "[[ 0.03185978  1.0826863  -0.28744027 -0.5813333  -0.19856995  0.6160557 ]\n",
      " [ 1.3179237   0.57346076  0.46658093  0.6298198   1.1257818   0.60887533]\n",
      " [-0.18122454 -0.7996434   0.18820563  0.8832651  -0.24949065 -0.76258314]\n",
      " [ 1.111357    0.905367    1.1793551   0.59192216  0.32215     0.38281628]]\n",
      "\n",
      "[[ 0.08870737 -0.35732138  0.08890685  0.7967047   0.03476148 -0.29702488]\n",
      " [ 0.2827265   0.24624328  0.32500756  0.40559104  0.3062866   0.45998904]\n",
      " [-0.1089952   0.2823917  -0.10153459 -0.2400808   0.1166556   0.7587836 ]\n",
      " [ 0.43279576  0.03290125  0.1803879   0.39515316  0.24450132  0.4754081 ]]\n"
     ]
    },
    {
     "data": {
      "image/png": "[encoded data removed]",
      "text/plain": [
       "<Figure size 432x288 with 1 Axes>"
      ]
     },
     "metadata": {
      "needs_background": "light"
     },
     "output_type": "display_data"
    }
   ],
   "source": [
    "convolution_filter = model.layers[0].get_weights()[0].squeeze().transpose()\n",
    "print('filter:')\n",
    "break_point = 6\n",
    "print(convolution_filter[:,:break_point])\n",
    "print()\n",
    "print(convolution_filter[:,break_point:2*break_point])\n",
    "print()\n",
    "print(convolution_filter[:,2*break_point:])\n",
    "_ = plt.hist(convolution_filter.flatten()) "
   ]
  },
  {
   "cell_type": "code",
   "execution_count": 14,
   "metadata": {},
   "outputs": [
    {
     "name": "stdout",
     "output_type": "stream",
     "text": [
      "convolution with motif 664.2458249367774\n"
     ]
    },
    {
     "data": {
      "image/png": "[encoded data removed]",
      "text/plain": [
       "<Figure size 432x288 with 1 Axes>"
      ]
     },
     "metadata": {
      "needs_background": "light"
     },
     "output_type": "display_data"
    }
   ],
   "source": [
    "print('convolution with motif', np.sum(motif * convolution_filter))\n",
    "\n",
    "def generate_random_motif():\n",
    "    random_motif = \\\n",
    "    np.array([np.random.choice(['A', 'C', 'G', 'T'], \n",
    "                               size=1, \n",
    "                               p=np.array([1,1,1,1])/4.0) \n",
    "              for position in range(motif.shape[1])]).transpose()\n",
    "    return _one_hot_encode_conv1d(''.join(random_motif.squeeze())).transpose()\n",
    "\n",
    "random_motifs_convolutions = []\n",
    "for _ in range(1000): \n",
    "    random_motifs_convolutions.append(np.sum(generate_random_motif() * convolution_filter))\n",
    "_ = plt.hist(random_motifs_convolutions) "
   ]
  },
  {
   "cell_type": "code",
   "execution_count": 15,
   "metadata": {},
   "outputs": [
    {
     "name": "stdout",
     "output_type": "stream",
     "text": [
      "intermediate_layer_model\n",
      "[[[5.720446 ]\n",
      "  [4.7543044]\n",
      "  [5.8615227]\n",
      "  [5.9843416]\n",
      "  [6.7975035]\n",
      "  [6.733323 ]\n",
      "  [5.401811 ]\n",
      "  [4.592944 ]\n",
      "  [6.2352686]\n",
      "  [7.2642765]\n",
      "  [4.622991 ]\n",
      "  [3.7430124]\n",
      "  [4.576876 ]]]\n",
      "true label [0]\n"
     ]
    }
   ],
   "source": [
    "from keras.models import Model\n",
    "intermediate_layer_model = Model(inputs=model.input,\n",
    "                                 outputs=model.layers[0].output)\n",
    "example_index = 11\n",
    "print('intermediate_layer_model') \n",
    "print(intermediate_layer_model.predict(np.array([encoded_sequences_test[example_index]])))\n",
    "print('true label', observed_labels_test[example_index])"
   ]
  },
  {
   "cell_type": "code",
   "execution_count": 16,
   "metadata": {},
   "outputs": [
    {
     "name": "stdout",
     "output_type": "stream",
     "text": [
      "bias: 3.4800186157226562\n"
     ]
    },
    {
     "data": {
      "image/png": "[encoded data removed]",
      "text/plain": [
       "<Figure size 432x288 with 1 Axes>"
      ]
     },
     "metadata": {
      "needs_background": "light"
     },
     "output_type": "display_data"
    }
   ],
   "source": [
    "weights = model.layers[3].get_weights()[0]\n",
    "_ = plt.plot(weights)\n",
    "print('bias:', float(model.layers[3].get_weights()[1]))"
   ]
  },
  {
   "cell_type": "code",
   "execution_count": 17,
   "metadata": {},
   "outputs": [
    {
     "data": {
      "image/png": "[encoded data removed]",
      "text/plain": [
       "<Figure size 432x288 with 2 Axes>"
      ]
     },
     "metadata": {
      "needs_background": "light"
     },
     "output_type": "display_data"
    },
    {
     "data": {
      "image/png": "[encoded data removed]",
      "text/plain": [
       "<Figure size 432x288 with 1 Axes>"
      ]
     },
     "metadata": {
      "needs_background": "light"
     },
     "output_type": "display_data"
    }
   ],
   "source": [
    "def motif_sequence(matrix, model=None): \n",
    "    nucleotides = ['A','C','G','T']\n",
    "    if model: \n",
    "        bias = float(model.layers[3].get_weights()[1])\n",
    "        arg = np.argmin if bias > 0.0 else np.argmax\n",
    "    else: \n",
    "        arg = np.argmax\n",
    "    return [nucleotides[arg(matrix[:, position])] \n",
    "            for position in range(matrix.shape[1])]\n",
    "\n",
    "original_motif = np.array(motif_sequence(motif)) \n",
    "learned_motif = np.array(motif_sequence(convolution_filter, model=model))\n",
    "\n",
    "plt.figure()\n",
    "plt.subplot(2, 1, 1)\n",
    "plt.imshow(motif)\n",
    "_ = plt.xticks(np.arange(0, 18, step=2))\n",
    "_ = plt.text(1, -1, '{:<30}{:<40}'.format('original motif', ''.join(original_motif)))\n",
    "\n",
    "plt.subplot(2, 1, 2)\n",
    "plt.imshow(convolution_filter)\n",
    "_ = plt.xticks(np.arange(0, 18, step=2))\n",
    "_ = plt.text(1, -1, '{:<30}{:<40}'.format('learned motif', \n",
    "                                          ''.join(learned_motif)))\n",
    "\n",
    "tick_labels, matches = \\\n",
    "list(zip(*[(nucleotide_learned + '/' + nucleotide_original, nucleotide_learned==nucleotide_original)\n",
    "           for nucleotide_learned, nucleotide_original in zip(learned_motif, original_motif)]))    \n",
    "\n",
    "def confidence(filter_values): \n",
    "    filter_values = np.sort(filter_values)\n",
    "    distance_to_second_biggest = (filter_values[-1] - filter_values[-2])\n",
    "    distance_to_smallest = (filter_values[-1] - filter_values[0])\n",
    "    return distance_to_second_biggest/float(distance_to_smallest)\n",
    "\n",
    "confidences = [confidence(convolution_filter[:, position]) \n",
    "               for position in range(convolution_filter.shape[1])]\n",
    "\n",
    "plt.figure()\n",
    "_ = plt.plot(confidences, '.', ms=20)\n",
    "_ = plt.plot(matches, '.', ms=20)\n",
    "_ = plt.xticks(range(len(tick_labels)), tick_labels, size='small')\n",
    "_ = plt.ylim([0, 1])"
   ]
  }
 ],
 "metadata": {
  "kernelspec": {
   "display_name": "Python 3",
   "language": "python",
   "name": "python3"
  },
  "language_info": {
   "codemirror_mode": {
    "name": "ipython",
    "version": 3
   },
   "file_extension": ".py",
   "mimetype": "text/x-python",
   "name": "python",
   "nbconvert_exporter": "python",
   "pygments_lexer": "ipython3",
   "version": "3.5.6"
  },
  "toc": {
   "base_numbering": 1,
   "nav_menu": {
    "height": "270px",
    "width": "343px"
   },
   "number_sections": true,
   "sideBar": true,
   "skip_h1_title": false,
   "title_cell": "Table of Contents",
   "title_sidebar": "Contents",
   "toc_cell": true,
   "toc_position": {
    "height": "calc(100% - 180px)",
    "left": "10px",
    "top": "150px",
    "width": "237.75px"
   },
   "toc_section_display": true,
   "toc_window_display": true
  }
 },
 "nbformat": 4,
 "nbformat_minor": 1
}
