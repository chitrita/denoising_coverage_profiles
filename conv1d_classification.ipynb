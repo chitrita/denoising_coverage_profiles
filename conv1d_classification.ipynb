{
 "cells": [
  {
   "cell_type": "markdown",
   "metadata": {},
   "source": [
    "Based upon [Gökçen Eraslan's PyCon talk](https://github.com/gokceneraslan/dnaconvnet-notebook)."
   ]
  },
  {
   "cell_type": "markdown",
   "metadata": {},
   "source": [
    "## Discovering DNA motifs using convolutional neural networks\n",
    "\n",
    "The goal is to train a convolutional neural network to recognize a given DNA sequence motif given a  synthetic set of training examples (sequences) that have been labeled according to whether they contain the motif or not. In other words, the convolution filter of the network should evolve during training towards the known \"frequency matrix\" of the motif. \n",
    "\n",
    "## EWSR1 motif \n",
    "\n",
    "We fetch the following motif from [JASPAR](http://jaspar.genereg.net/cgi-bin/jaspar_db.pl?ID=MA0149.1&rm=present&collection=CORE):\n",
    "![title](http://jaspar.genereg.net/static/logos/MA0149.1.BIG.png)\n",
    "\n",
    "\n",
    "This motif is a visualization of the \"frequency matrix\":"
   ]
  },
  {
   "cell_type": "code",
   "execution_count": 5,
   "metadata": {},
   "outputs": [],
   "source": [
    "import numpy as np\n",
    "motif = np.array([[   0,   2, 104, 104,   1,   2, 103, 102,   0,   0,  99, 105,   0,   0, 100, 102,   5,   3],\n",
    "                  [   0,   0,   0,   0,   0,   0,   0,   0,   0,   2,   4,   0,   0,   2,   3,   0,   0,   3],\n",
    "                  [ 105, 103,   1,   1, 104, 102,   2,   3, 104, 103,   2,   0, 105, 103,   0,   2,  97,  97],\n",
    "                  [   0,   0,   0,   0,   0,   1,   0,   0,   1,   0,   0,   0,   0,   0,   2,   1,   3,   2]])"
   ]
  },
  {
   "cell_type": "markdown",
   "metadata": {},
   "source": [
    "Each row in this matrix corresponds to a possible nucleotide and the columns correspond to  position in a binding site. The matrix elements indicate the frequency with with which the corresponding nucleotide was observed at the corresponding position in the binding site. \n",
    "\n",
    "## Training examples \n",
    "\n",
    "We wish to create a set of \"positive\" training examples in which the motif is embedded. We can do this by extending the frequency matrix upstream and downstream of the binding site using equal frequencies for each of the possible nucleotides: "
   ]
  },
  {
   "cell_type": "code",
   "execution_count": 71,
   "metadata": {},
   "outputs": [],
   "source": [
    "sequence_length = 40\n",
    "motif_plus_background = np.hstack([np.ones((4,(sequence_length-motif.shape[1])//2)), \n",
    "                                   motif,\n",
    "                                   np.ones((4,(sequence_length-motif.shape[1])//2))])\n",
    "\n",
    "number_training_examples = 1000\n",
    "training_examples_positive = \\\n",
    "np.array([np.random.choice(['A', 'C', 'G', 'T'], \n",
    "                           size=number_training_examples//2, \n",
    "                           p=motif_plus_background[:,position]/float(np.sum(motif_plus_background[:,position]))) \n",
    "          for position in range(sequence_length)]).transpose()\n",
    "\n",
    "sequences_positive = []\n",
    "for training_example_positive in training_examples_positive: \n",
    "    sequences_positive.append(''.join(training_example_positive))\n",
    "    \n",
    "labels_positive = np.ones(shape=len(sequences_positive), dtype=int)"
   ]
  },
  {
   "cell_type": "markdown",
   "metadata": {},
   "source": [
    "Now let's produce the negative training examples by sampling nucleotides with equal frequency, regardless of their position in the sequence: "
   ]
  },
  {
   "cell_type": "code",
   "execution_count": 72,
   "metadata": {
    "scrolled": true
   },
   "outputs": [],
   "source": [
    "training_examples_negative = \\\n",
    "np.array([np.random.choice(['A', 'C', 'G', 'T'], \n",
    "                           size=number_training_examples//2, \n",
    "                           p=np.array([1,1,1,1])/4.0) \n",
    "          for position in range(sequence_length)]).transpose()\n",
    "\n",
    "sequences_negative = []\n",
    "for training_example_negative in training_examples_negative: \n",
    "    sequences_negative.append(''.join(training_example_negative))\n",
    "\n",
    "labels_negative = np.zeros(shape=len(sequences_negative), dtype=int)"
   ]
  },
  {
   "cell_type": "markdown",
   "metadata": {},
   "source": [
    "Wrap the examples up in a dataframe to visualize the positive examples..."
   ]
  },
  {
   "cell_type": "code",
   "execution_count": 74,
   "metadata": {},
   "outputs": [
    {
     "data": {
      "text/html": [
       "<div>\n",
       "<style scoped>\n",
       "    .dataframe tbody tr th:only-of-type {\n",
       "        vertical-align: middle;\n",
       "    }\n",
       "\n",
       "    .dataframe tbody tr th {\n",
       "        vertical-align: top;\n",
       "    }\n",
       "\n",
       "    .dataframe thead th {\n",
       "        text-align: right;\n",
       "    }\n",
       "</style>\n",
       "<table border=\"1\" class=\"dataframe\">\n",
       "  <thead>\n",
       "    <tr style=\"text-align: right;\">\n",
       "      <th></th>\n",
       "      <th>sequence</th>\n",
       "      <th>observed_label</th>\n",
       "    </tr>\n",
       "  </thead>\n",
       "  <tbody>\n",
       "    <tr>\n",
       "      <th>0</th>\n",
       "      <td>GGACGAGTCCTGGAAGGAAGGAAGGAAGGCCCTTGCCGCG</td>\n",
       "      <td>1</td>\n",
       "    </tr>\n",
       "    <tr>\n",
       "      <th>1</th>\n",
       "      <td>GTTGCTAGACTGGAAGGAAGGCAGGAAGGTCTCCACTACC</td>\n",
       "      <td>1</td>\n",
       "    </tr>\n",
       "    <tr>\n",
       "      <th>2</th>\n",
       "      <td>ACCCTAGGTATGGAAGGAAGGAAGGAAGGGAAGAAATCTA</td>\n",
       "      <td>1</td>\n",
       "    </tr>\n",
       "    <tr>\n",
       "      <th>3</th>\n",
       "      <td>CTATGGTAGTGGGAAGGAAGGAAGGATGGTTAATTTAATT</td>\n",
       "      <td>1</td>\n",
       "    </tr>\n",
       "    <tr>\n",
       "      <th>4</th>\n",
       "      <td>GAGTCGGTGGAGGAAGGAAGGAAGGAAGGGAAGAAGTTAT</td>\n",
       "      <td>1</td>\n",
       "    </tr>\n",
       "  </tbody>\n",
       "</table>\n",
       "</div>"
      ],
      "text/plain": [
       "                                   sequence  observed_label\n",
       "0  GGACGAGTCCTGGAAGGAAGGAAGGAAGGCCCTTGCCGCG               1\n",
       "1  GTTGCTAGACTGGAAGGAAGGCAGGAAGGTCTCCACTACC               1\n",
       "2  ACCCTAGGTATGGAAGGAAGGAAGGAAGGGAAGAAATCTA               1\n",
       "3  CTATGGTAGTGGGAAGGAAGGAAGGATGGTTAATTTAATT               1\n",
       "4  GAGTCGGTGGAGGAAGGAAGGAAGGAAGGGAAGAAGTTAT               1"
      ]
     },
     "execution_count": 74,
     "metadata": {},
     "output_type": "execute_result"
    }
   ],
   "source": [
    "df_training = pd.DataFrame(OrderedDict([('sequence', np.concatenate((sequences_positive, sequences_negative))),\n",
    "                                        ('observed_label', np.concatenate((labels_positive, labels_negative)))]))\n",
    "df_training[:5]"
   ]
  },
  {
   "cell_type": "markdown",
   "metadata": {},
   "source": [
    "... and the negative examples: "
   ]
  },
  {
   "cell_type": "code",
   "execution_count": 75,
   "metadata": {},
   "outputs": [
    {
     "data": {
      "text/html": [
       "<div>\n",
       "<style scoped>\n",
       "    .dataframe tbody tr th:only-of-type {\n",
       "        vertical-align: middle;\n",
       "    }\n",
       "\n",
       "    .dataframe tbody tr th {\n",
       "        vertical-align: top;\n",
       "    }\n",
       "\n",
       "    .dataframe thead th {\n",
       "        text-align: right;\n",
       "    }\n",
       "</style>\n",
       "<table border=\"1\" class=\"dataframe\">\n",
       "  <thead>\n",
       "    <tr style=\"text-align: right;\">\n",
       "      <th></th>\n",
       "      <th>sequence</th>\n",
       "      <th>observed_label</th>\n",
       "    </tr>\n",
       "  </thead>\n",
       "  <tbody>\n",
       "    <tr>\n",
       "      <th>500</th>\n",
       "      <td>AATCGCCACGTTTCCTTGGTTGAAACTCCTAAAGCTTAAC</td>\n",
       "      <td>0</td>\n",
       "    </tr>\n",
       "    <tr>\n",
       "      <th>501</th>\n",
       "      <td>ATACGTAAGTCCCTTGTGGTGTTAAGTCATACGGTCGACG</td>\n",
       "      <td>0</td>\n",
       "    </tr>\n",
       "    <tr>\n",
       "      <th>502</th>\n",
       "      <td>CCTGCCTGACATGAAAACCCCATTTTCCCCTTACTATCGT</td>\n",
       "      <td>0</td>\n",
       "    </tr>\n",
       "    <tr>\n",
       "      <th>503</th>\n",
       "      <td>TATTTGTGTGCACCATTGGATCCGGGTCCCAGTTTTATAC</td>\n",
       "      <td>0</td>\n",
       "    </tr>\n",
       "    <tr>\n",
       "      <th>504</th>\n",
       "      <td>GCAGCGGGTGATGCGTACGAGAAAAAAACGGCCCGATGAT</td>\n",
       "      <td>0</td>\n",
       "    </tr>\n",
       "  </tbody>\n",
       "</table>\n",
       "</div>"
      ],
      "text/plain": [
       "                                     sequence  observed_label\n",
       "500  AATCGCCACGTTTCCTTGGTTGAAACTCCTAAAGCTTAAC               0\n",
       "501  ATACGTAAGTCCCTTGTGGTGTTAAGTCATACGGTCGACG               0\n",
       "502  CCTGCCTGACATGAAAACCCCATTTTCCCCTTACTATCGT               0\n",
       "503  TATTTGTGTGCACCATTGGATCCGGGTCCCAGTTTTATAC               0\n",
       "504  GCAGCGGGTGATGCGTACGAGAAAAAAACGGCCCGATGAT               0"
      ]
     },
     "execution_count": 75,
     "metadata": {},
     "output_type": "execute_result"
    }
   ],
   "source": [
    "df_training[500:505]"
   ]
  },
  {
   "cell_type": "markdown",
   "metadata": {},
   "source": [
    "## Learning the motif using a convolution network \n",
    "\n",
    "Since the sequences are categorical data, we must encode them as numbers before passing them into a function that maps them to class labels. We use \"one-hot encoding\", creating a tensor with dimensions `(number_examples, sequence_length, number_channels)` : "
   ]
  },
  {
   "cell_type": "code",
   "execution_count": 116,
   "metadata": {},
   "outputs": [
    {
     "name": "stdout",
     "output_type": "stream",
     "text": [
      "encoded_sequences.shape:  (1000, 40, 4)\n",
      "observed_labels.shape (1000, 1)\n"
     ]
    }
   ],
   "source": [
    "from load_preprocess_data import _one_hot_encode_conv1d\n",
    "\n",
    "encoded_sequences = []\n",
    "for sequence in df_training['sequence']:\n",
    "    encoded_sequences.append(_one_hot_encode_conv1d(sequence))\n",
    "encoded_sequences = np.array(encoded_sequences)\n",
    "print('encoded_sequences.shape: ', encoded_sequences.shape)\n",
    "\n",
    "observed_labels = np.array(df_training['observed_label']).reshape(-1, 1)\n",
    "print('observed_labels.shape', observed_labels.shape)"
   ]
  },
  {
   "cell_type": "markdown",
   "metadata": {},
   "source": [
    "Next, we set up and train a convolution neural network to map sequence to labels: "
   ]
  },
  {
   "cell_type": "code",
   "execution_count": 117,
   "metadata": {},
   "outputs": [
    {
     "name": "stdout",
     "output_type": "stream",
     "text": [
      "Train on 800 samples, validate on 200 samples\n",
      "Epoch 1/10\n",
      "800/800 [==============================] - 0s 317us/step - loss: 0.7057 - acc: 0.5750 - val_loss: 0.7981 - val_acc: 0.1650\n",
      "Epoch 2/10\n",
      "800/800 [==============================] - 0s 69us/step - loss: 0.4302 - acc: 0.6837 - val_loss: 0.6869 - val_acc: 0.7150\n",
      "\n",
      "Epoch 00002: val_acc improved from -inf to 0.71500, saving model to model.best.hdf5\n",
      "Epoch 3/10\n",
      "800/800 [==============================] - 0s 65us/step - loss: 0.3452 - acc: 0.8663 - val_loss: 0.5778 - val_acc: 0.9350\n",
      "Epoch 4/10\n",
      "800/800 [==============================] - 0s 64us/step - loss: 0.3015 - acc: 0.9150 - val_loss: 0.4910 - val_acc: 0.9550\n",
      "\n",
      "Epoch 00004: val_acc improved from 0.71500 to 0.95500, saving model to model.best.hdf5\n",
      "Epoch 5/10\n",
      "800/800 [==============================] - 0s 68us/step - loss: 0.2626 - acc: 0.9263 - val_loss: 0.4142 - val_acc: 0.9800\n",
      "Epoch 6/10\n",
      "800/800 [==============================] - 0s 66us/step - loss: 0.2267 - acc: 0.9312 - val_loss: 0.3547 - val_acc: 0.9800\n",
      "\n",
      "Epoch 00006: val_acc improved from 0.95500 to 0.98000, saving model to model.best.hdf5\n",
      "Epoch 7/10\n",
      "800/800 [==============================] - 0s 63us/step - loss: 0.2157 - acc: 0.9375 - val_loss: 0.3273 - val_acc: 0.9800\n",
      "Epoch 8/10\n",
      "800/800 [==============================] - 0s 57us/step - loss: 0.1797 - acc: 0.9587 - val_loss: 0.2773 - val_acc: 1.0000\n",
      "\n",
      "Epoch 00008: val_acc improved from 0.98000 to 1.00000, saving model to model.best.hdf5\n",
      "Epoch 9/10\n",
      "800/800 [==============================] - 0s 58us/step - loss: 0.1831 - acc: 0.9500 - val_loss: 0.2531 - val_acc: 0.9950\n",
      "Epoch 10/10\n",
      "800/800 [==============================] - 0s 69us/step - loss: 0.1518 - acc: 0.9600 - val_loss: 0.2330 - val_acc: 0.9950\n",
      "\n",
      "Epoch 00010: val_acc did not improve from 1.00000\n"
     ]
    }
   ],
   "source": [
    "# https://github.com/keras-team/keras/issues/2102#issuecomment-233773649\n",
    "import keras.backend as K\n",
    "K.clear_session()\n",
    "\n",
    "from keras.models import Sequential\n",
    "from keras.layers import Conv1D, Dense, Flatten, Dropout\n",
    "\n",
    "model = Sequential()\n",
    "model.add(Conv1D(filters=1, \n",
    "                 kernel_size=motif.shape[1], \n",
    "                 input_shape=(sequence_length, 4), \n",
    "                 activation='relu'))\n",
    "\n",
    "# INVERTED DROPOUT\n",
    "# \"Dropout\" gets applied to the output of preceding layer (at training time only):\n",
    "# https://keras.io/layers/core/#dropout\n",
    "# weights are scaled by inverse of dropout rate (at training time only):\n",
    "# see: line 2277 of /anaconda2/envs/tensorflow3/lib/python3.5/site-packages/tensorflow/python/ops/nn_ops.py\n",
    "# also see: https://github.com/keras-team/keras/issues/3305#issuecomment-235359883\n",
    "# also see: https://www.coursera.org/lecture/deep-neural-network/dropout-regularization-eM33A\n",
    "model.add(Dropout(rate=0.7))\n",
    "\n",
    "model.add(Flatten())\n",
    "model.add(Dense(units=1, activation='sigmoid'))\n",
    "\n",
    "from keras.optimizers import SGD\n",
    "model.compile(optimizer=SGD(lr=0.01, decay=1e-6, momentum=0.9, nesterov=True),\n",
    "              loss='binary_crossentropy',\n",
    "              metrics=['accuracy'])\n",
    "\n",
    "from keras.callbacks import ModelCheckpoint\n",
    "checkpoint = ModelCheckpoint(filepath=\"model.best.hdf5\", \n",
    "                             save_weights_only=False,\n",
    "                             monitor='val_acc', \n",
    "                             verbose=1,\n",
    "                             save_best_only=True,\n",
    "                             period=2)\n",
    "\n",
    "from keras.callbacks import TensorBoard\n",
    "tensorboard = TensorBoard(log_dir='./logs', \n",
    "                          histogram_freq=1, \n",
    "                          write_graph=False, \n",
    "                          write_grads=True, \n",
    "                          write_images=True)\n",
    "\n",
    "history = model.fit(x=encoded_sequences, \n",
    "                    y=observed_labels, \n",
    "                    validation_split=0.2, \n",
    "                    epochs=10,\n",
    "                    callbacks=[checkpoint, tensorboard])  "
   ]
  },
  {
   "cell_type": "code",
   "execution_count": 144,
   "metadata": {},
   "outputs": [
    {
     "data": {
      "image/png": "[encoded data removed]",
      "text/plain": [
       "<Figure size 1152x720 with 1 Axes>"
      ]
     },
     "metadata": {
      "needs_background": "light"
     },
     "output_type": "display_data"
    },
    {
     "data": {
      "image/png": "[encoded data removed]",
      "text/plain": [
       "<Figure size 1152x720 with 1 Axes>"
      ]
     },
     "metadata": {
      "needs_background": "light"
     },
     "output_type": "display_data"
    }
   ],
   "source": [
    "import matplotlib.pyplot as plt\n",
    "%matplotlib inline \n",
    "\n",
    "def plot_history(histories, key='loss', ymin=None, ymax=None):\n",
    "    plt.figure(figsize=(16,10))    \n",
    "    for name, history in histories:\n",
    "        validation_plot = plt.plot(history.epoch, \n",
    "                                   history.history['val_' + key], \n",
    "                                   '--', \n",
    "                                   label=name + ' validation ' + key)\n",
    "        plt.plot(history.epoch, \n",
    "                 history.history[key], \n",
    "                 color=validation_plot[0].get_color(),\n",
    "                 label=name + ' train ' + key)\n",
    "        plt.xlabel('epochs')\n",
    "        plt.ylabel(key.replace('_',' '))\n",
    "        plt.legend()\n",
    "        plt.xlim([0, max(history.epoch)])\n",
    "        if ymin is not None:\n",
    "            plt.ylim(bottom=ymin)\n",
    "        if ymax is not None:\n",
    "            plt.ylim(top=ymax)\n",
    "    \n",
    "plot_history([('conv1d', history)], ymin=0)\n",
    "plot_history([('conv1d', history)], key='acc', ymax=1)\n"
   ]
  },
  {
   "cell_type": "markdown",
   "metadata": {},
   "source": [
    "## Various ways to visualize the model architecture"
   ]
  },
  {
   "cell_type": "code",
   "execution_count": 120,
   "metadata": {},
   "outputs": [
    {
     "name": "stdout",
     "output_type": "stream",
     "text": [
      "model.inputs [<tf.Tensor 'conv1d_1_input:0' shape=(?, 40, 4) dtype=float32>]\n",
      "model.outputs [<tf.Tensor 'dense_1/Sigmoid:0' shape=(?, 1) dtype=float32>]\n",
      "_________________________________________________________________\n",
      "Layer (type)                 Output Shape              Param #   \n",
      "=================================================================\n",
      "conv1d_1 (Conv1D)            (None, 23, 1)             73        \n",
      "_________________________________________________________________\n",
      "dropout_1 (Dropout)          (None, 23, 1)             0         \n",
      "_________________________________________________________________\n",
      "flatten_1 (Flatten)          (None, 23)                0         \n",
      "_________________________________________________________________\n",
      "dense_1 (Dense)              (None, 1)                 24        \n",
      "=================================================================\n",
      "Total params: 97\n",
      "Trainable params: 97\n",
      "Non-trainable params: 0\n",
      "_________________________________________________________________\n"
     ]
    }
   ],
   "source": [
    "print('model.inputs', model.inputs)\n",
    "print('model.outputs', model.outputs)\n",
    "model.summary()\n",
    "\n",
    "from contextlib import redirect_stdout\n",
    "with open('model.summary.txt', 'w') as f:\n",
    "    with redirect_stdout(f):\n",
    "        model.summary()"
   ]
  },
  {
   "cell_type": "code",
   "execution_count": 145,
   "metadata": {},
   "outputs": [
    {
     "data": {
      "image/svg+xml": [
       "<svg height=\"337pt\" viewBox=\"0.00 0.00 135.60 337.00\" width=\"136pt\" xmlns=\"http://www.w3.org/2000/svg\" xmlns:xlink=\"http://www.w3.org/1999/xlink\">\n",
       "<g class=\"graph\" id=\"graph0\" transform=\"scale(1 1) rotate(0) translate(4 333)\">\n",
       "<title>G</title>\n",
       "<polygon fill=\"#ffffff\" points=\"-4,4 -4,-333 131.6035,-333 131.6035,4 -4,4\" stroke=\"transparent\"/>\n",
       "<!-- 112181326512 -->\n",
       "<g class=\"node\" id=\"node1\">\n",
       "<title>112181326512</title>\n",
       "<polygon fill=\"none\" points=\".7759,-219.5 .7759,-255.5 126.8276,-255.5 126.8276,-219.5 .7759,-219.5\" stroke=\"#000000\"/>\n",
       "<text fill=\"#000000\" font-family=\"Times,serif\" font-size=\"14.00\" text-anchor=\"middle\" x=\"63.8018\" y=\"-233.3\">conv1d_1: Conv1D</text>\n",
       "</g>\n",
       "<!-- 112199702680 -->\n",
       "<g class=\"node\" id=\"node2\">\n",
       "<title>112199702680</title>\n",
       "<polygon fill=\"none\" points=\"0,-146.5 0,-182.5 127.6035,-182.5 127.6035,-146.5 0,-146.5\" stroke=\"#000000\"/>\n",
       "<text fill=\"#000000\" font-family=\"Times,serif\" font-size=\"14.00\" text-anchor=\"middle\" x=\"63.8018\" y=\"-160.3\">dropout_1: Dropout</text>\n",
       "</g>\n",
       "<!-- 112181326512&#45;&gt;112199702680 -->\n",
       "<g class=\"edge\" id=\"edge2\">\n",
       "<title>112181326512-&gt;112199702680</title>\n",
       "<path d=\"M63.8018,-219.4551C63.8018,-211.3828 63.8018,-201.6764 63.8018,-192.6817\" fill=\"none\" stroke=\"#000000\"/>\n",
       "<polygon fill=\"#000000\" points=\"67.3019,-192.5903 63.8018,-182.5904 60.3019,-192.5904 67.3019,-192.5903\" stroke=\"#000000\"/>\n",
       "</g>\n",
       "<!-- 112199703632 -->\n",
       "<g class=\"node\" id=\"node3\">\n",
       "<title>112199703632</title>\n",
       "<polygon fill=\"none\" points=\"8.1689,-73.5 8.1689,-109.5 119.4346,-109.5 119.4346,-73.5 8.1689,-73.5\" stroke=\"#000000\"/>\n",
       "<text fill=\"#000000\" font-family=\"Times,serif\" font-size=\"14.00\" text-anchor=\"middle\" x=\"63.8018\" y=\"-87.3\">flatten_1: Flatten</text>\n",
       "</g>\n",
       "<!-- 112199702680&#45;&gt;112199703632 -->\n",
       "<g class=\"edge\" id=\"edge3\">\n",
       "<title>112199702680-&gt;112199703632</title>\n",
       "<path d=\"M63.8018,-146.4551C63.8018,-138.3828 63.8018,-128.6764 63.8018,-119.6817\" fill=\"none\" stroke=\"#000000\"/>\n",
       "<polygon fill=\"#000000\" points=\"67.3019,-119.5903 63.8018,-109.5904 60.3019,-119.5904 67.3019,-119.5903\" stroke=\"#000000\"/>\n",
       "</g>\n",
       "<!-- 112199703968 -->\n",
       "<g class=\"node\" id=\"node4\">\n",
       "<title>112199703968</title>\n",
       "<polygon fill=\"none\" points=\"11.6758,-.5 11.6758,-36.5 115.9277,-36.5 115.9277,-.5 11.6758,-.5\" stroke=\"#000000\"/>\n",
       "<text fill=\"#000000\" font-family=\"Times,serif\" font-size=\"14.00\" text-anchor=\"middle\" x=\"63.8018\" y=\"-14.3\">dense_1: Dense</text>\n",
       "</g>\n",
       "<!-- 112199703632&#45;&gt;112199703968 -->\n",
       "<g class=\"edge\" id=\"edge4\">\n",
       "<title>112199703632-&gt;112199703968</title>\n",
       "<path d=\"M63.8018,-73.4551C63.8018,-65.3828 63.8018,-55.6764 63.8018,-46.6817\" fill=\"none\" stroke=\"#000000\"/>\n",
       "<polygon fill=\"#000000\" points=\"67.3019,-46.5903 63.8018,-36.5904 60.3019,-46.5904 67.3019,-46.5903\" stroke=\"#000000\"/>\n",
       "</g>\n",
       "<!-- 112199703688 -->\n",
       "<g class=\"node\" id=\"node5\">\n",
       "<title>112199703688</title>\n",
       "<polygon fill=\"none\" points=\"14.0581,-292.5 14.0581,-328.5 113.5454,-328.5 113.5454,-292.5 14.0581,-292.5\" stroke=\"#000000\"/>\n",
       "<text fill=\"#000000\" font-family=\"Times,serif\" font-size=\"14.00\" text-anchor=\"middle\" x=\"63.8018\" y=\"-306.3\">112199703688</text>\n",
       "</g>\n",
       "<!-- 112199703688&#45;&gt;112181326512 -->\n",
       "<g class=\"edge\" id=\"edge1\">\n",
       "<title>112199703688-&gt;112181326512</title>\n",
       "<path d=\"M63.8018,-292.4551C63.8018,-284.3828 63.8018,-274.6764 63.8018,-265.6817\" fill=\"none\" stroke=\"#000000\"/>\n",
       "<polygon fill=\"#000000\" points=\"67.3019,-265.5903 63.8018,-255.5904 60.3019,-265.5904 67.3019,-265.5903\" stroke=\"#000000\"/>\n",
       "</g>\n",
       "</g>\n",
       "</svg>"
      ],
      "text/plain": [
       "<IPython.core.display.SVG object>"
      ]
     },
     "execution_count": 145,
     "metadata": {},
     "output_type": "execute_result"
    }
   ],
   "source": [
    "from IPython.display import SVG\n",
    "from keras.utils.vis_utils import model_to_dot\n",
    "\n",
    "SVG(model_to_dot(model).create(prog='dot', format='svg'))"
   ]
  },
  {
   "cell_type": "code",
   "execution_count": 27,
   "metadata": {},
   "outputs": [
    {
     "name": "stdout",
     "output_type": "stream",
     "text": [
      "Convolution parameter shape: (19, 4)\n"
     ]
    }
   ],
   "source": [
    "#have a look at the filter\n",
    "convlayer = model.layers[0]\n",
    "weights = convlayer.get_weights()[0].squeeze()\n",
    "print('Convolution parameter shape: {}'.format(weights.shape))"
   ]
  },
  {
   "cell_type": "code",
   "execution_count": 28,
   "metadata": {},
   "outputs": [
    {
     "data": {
      "text/plain": [
       "'AAAGAAGGAAGGGAAGGAA'"
      ]
     },
     "execution_count": 28,
     "metadata": {},
     "output_type": "execute_result"
    }
   ],
   "source": [
    "num2seq = ['A','C','G','T']\n",
    "\n",
    "''.join([num2seq[np.argmax(weights[i,:])] for i in range(weights.shape[0])])"
   ]
  },
  {
   "cell_type": "code",
   "execution_count": null,
   "metadata": {},
   "outputs": [],
   "source": []
  }
 ],
 "metadata": {
  "kernelspec": {
   "display_name": "Python 3",
   "language": "python",
   "name": "python3"
  },
  "language_info": {
   "codemirror_mode": {
    "name": "ipython",
    "version": 3
   },
   "file_extension": ".py",
   "mimetype": "text/x-python",
   "name": "python",
   "nbconvert_exporter": "python",
   "pygments_lexer": "ipython3",
   "version": "3.5.6"
  },
  "toc": {
   "base_numbering": 1,
   "nav_menu": {},
   "number_sections": true,
   "sideBar": true,
   "skip_h1_title": false,
   "title_cell": "Table of Contents",
   "title_sidebar": "Contents",
   "toc_cell": false,
   "toc_position": {},
   "toc_section_display": true,
   "toc_window_display": false
  }
 },
 "nbformat": 4,
 "nbformat_minor": 1
}
