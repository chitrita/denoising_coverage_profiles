{
 "cells": [
  {
   "cell_type": "markdown",
   "metadata": {
    "toc": true
   },
   "source": [
    "<h1>Table of Contents<span class=\"tocSkip\"></span></h1>\n",
    "<div class=\"toc\"><ul class=\"toc-item\"><li><span><a href=\"#Discovering-DNA-motifs-using-convolutional-neural-networks\" data-toc-modified-id=\"Discovering-DNA-motifs-using-convolutional-neural-networks-1\"><span class=\"toc-item-num\">1&nbsp;&nbsp;</span>Discovering DNA motifs using convolutional neural networks</a></span></li><li><span><a href=\"#EWSR1-motif\" data-toc-modified-id=\"EWSR1-motif-2\"><span class=\"toc-item-num\">2&nbsp;&nbsp;</span>EWSR1 motif</a></span></li><li><span><a href=\"#Generating-training-examples\" data-toc-modified-id=\"Generating-training-examples-3\"><span class=\"toc-item-num\">3&nbsp;&nbsp;</span>Generating training examples</a></span></li><li><span><a href=\"#Preprocessing-the-data:-one-hot-encoding\" data-toc-modified-id=\"Preprocessing-the-data:-one-hot-encoding-4\"><span class=\"toc-item-num\">4&nbsp;&nbsp;</span>Preprocessing the data: one-hot encoding</a></span></li><li><span><a href=\"#Building-a-convolution-neural-network\" data-toc-modified-id=\"Building-a-convolution-neural-network-5\"><span class=\"toc-item-num\">5&nbsp;&nbsp;</span>Building a convolution neural network</a></span></li><li><span><a href=\"#Training-and-evaluting-the-network\" data-toc-modified-id=\"Training-and-evaluting-the-network-6\"><span class=\"toc-item-num\">6&nbsp;&nbsp;</span>Training and evaluting the network</a></span></li><li><span><a href=\"#Interrogating-the-learned-convolution-filter\" data-toc-modified-id=\"Interrogating-the-learned-convolution-filter-7\"><span class=\"toc-item-num\">7&nbsp;&nbsp;</span>Interrogating the learned convolution filter</a></span></li><li><span><a href=\"#Two-ways-to-achieve-high-performance\" data-toc-modified-id=\"Two-ways-to-achieve-high-performance-8\"><span class=\"toc-item-num\">8&nbsp;&nbsp;</span>Two ways to achieve high performance</a></span></li><li><span><a href=\"#A-second-pass-at-interrogating-the-convolution-filter\" data-toc-modified-id=\"A-second-pass-at-interrogating-the-convolution-filter-9\"><span class=\"toc-item-num\">9&nbsp;&nbsp;</span>A second pass at interrogating the convolution filter</a></span></li><li><span><a href=\"#Learning-part-of-a-motif-can-be--sufficient-for-high-performance\" data-toc-modified-id=\"Learning-part-of-a-motif-can-be--sufficient-for-high-performance-10\"><span class=\"toc-item-num\">10&nbsp;&nbsp;</span>Learning part of a motif can be  sufficient for high performance</a></span></li><li><span><a href=\"#Other-things-to-explore\" data-toc-modified-id=\"Other-things-to-explore-11\"><span class=\"toc-item-num\">11&nbsp;&nbsp;</span>Other things to explore</a></span></li></ul></div>"
   ]
  },
  {
   "cell_type": "markdown",
   "metadata": {},
   "source": [
    "Based upon [Gökçen Eraslan's PyCon talk](https://github.com/gokceneraslan/dnaconvnet-notebook)."
   ]
  },
  {
   "cell_type": "markdown",
   "metadata": {},
   "source": [
    "## Discovering DNA motifs using convolutional neural networks\n",
    "\n",
    "The goal is to train a convolutional neural network to predict whether a given input sequence contains a given DNA-binding motif. We will do this by generating synthetic training examples (sequences) that have been labeled according to whether they contain a given motif or not. The hope is that the trained network can be used to recover, somehow, the injected motif. \n",
    "\n",
    "## EWSR1 motif \n",
    "\n",
    "We fetch the following motif from [JASPAR](http://jaspar.genereg.net/cgi-bin/jaspar_db.pl?ID=MA0149.1&rm=present&collection=CORE):\n",
    "![title](http://jaspar.genereg.net/static/logos/MA0149.1.BIG.png)\n",
    "\n",
    "\n",
    "This motif is a visualization of the \"frequency matrix\":"
   ]
  },
  {
   "cell_type": "code",
   "execution_count": 1,
   "metadata": {},
   "outputs": [],
   "source": [
    "import numpy as np\n",
    "motif = np.array([[   0,   2, 104, 104,   1,   2, 103, 102,   0,   0,  99, 105,   0,   0, 100, 102,   5,   3],\n",
    "                  [   0,   0,   0,   0,   0,   0,   0,   0,   0,   2,   4,   0,   0,   2,   3,   0,   0,   3],\n",
    "                  [ 105, 103,   1,   1, 104, 102,   2,   3, 104, 103,   2,   0, 105, 103,   0,   2,  97,  97],\n",
    "                  [   0,   0,   0,   0,   0,   1,   0,   0,   1,   0,   0,   0,   0,   0,   2,   1,   3,   2]])"
   ]
  },
  {
   "cell_type": "markdown",
   "metadata": {},
   "source": [
    "Each row in this matrix corresponds to one of the four possible nucleotides and the columns correspond to  positions within the binding site of the transcription factor. The matrix elements indicate the frequency with which the corresponding nucleotide was observed at the corresponding position in the binding site. "
   ]
  },
  {
   "cell_type": "markdown",
   "metadata": {},
   "source": [
    "\n",
    "## Generating training examples \n",
    "\n",
    "We wish to create a set of \"positive\" training examples in which the motif is embedded. We can do this by drawing nucleotides at random with probabilities proporitional to the frequency matrix, and then extending the sequence so generated upstream and downstream by drawing nucleotides at random with equal probability: "
   ]
  },
  {
   "cell_type": "code",
   "execution_count": 2,
   "metadata": {},
   "outputs": [],
   "source": [
    "sequence_length = 30\n",
    "motif_plus_background = np.hstack([np.ones((4, (sequence_length-motif.shape[1])//2)), \n",
    "                                   motif,\n",
    "                                   np.ones((4, (sequence_length-motif.shape[1])//2))])\n",
    "\n",
    "number_training_examples = 10000\n",
    "training_examples_positive = \\\n",
    "np.array([np.random.choice(['A', 'C', 'G', 'T'], \n",
    "                           size=number_training_examples//2, \n",
    "                           p=motif_plus_background[:,position]/float(np.sum(motif_plus_background[:,position]))) \n",
    "          for position in range(sequence_length)]).transpose()\n",
    "\n",
    "sequences_positive = []\n",
    "for training_example_positive in training_examples_positive: \n",
    "    sequences_positive.append(''.join(training_example_positive))\n",
    "    \n",
    "labels_positive = np.ones(shape=len(sequences_positive), dtype=int)"
   ]
  },
  {
   "cell_type": "markdown",
   "metadata": {},
   "source": [
    "Now let's produce the negative training examples by sampling nucleotides with equal frequency, regardless of their position in the sequence: "
   ]
  },
  {
   "cell_type": "code",
   "execution_count": 3,
   "metadata": {
    "scrolled": true
   },
   "outputs": [],
   "source": [
    "training_examples_negative = \\\n",
    "np.array([np.random.choice(['A', 'C', 'G', 'T'], \n",
    "                           size=number_training_examples//2, \n",
    "                           p=np.array([1,1,1,1])/4.0) \n",
    "          for position in range(sequence_length)]).transpose()\n",
    "\n",
    "sequences_negative = []\n",
    "for training_example_negative in training_examples_negative: \n",
    "    sequences_negative.append(''.join(training_example_negative))\n",
    "\n",
    "labels_negative = np.zeros(shape=len(sequences_negative), dtype=int)"
   ]
  },
  {
   "cell_type": "markdown",
   "metadata": {},
   "source": [
    "Wrap the examples up in a dataframe to visualize the positive examples..."
   ]
  },
  {
   "cell_type": "code",
   "execution_count": 4,
   "metadata": {},
   "outputs": [
    {
     "data": {
      "text/html": [
       "<div>\n",
       "<style scoped>\n",
       "    .dataframe tbody tr th:only-of-type {\n",
       "        vertical-align: middle;\n",
       "    }\n",
       "\n",
       "    .dataframe tbody tr th {\n",
       "        vertical-align: top;\n",
       "    }\n",
       "\n",
       "    .dataframe thead th {\n",
       "        text-align: right;\n",
       "    }\n",
       "</style>\n",
       "<table border=\"1\" class=\"dataframe\">\n",
       "  <thead>\n",
       "    <tr style=\"text-align: right;\">\n",
       "      <th></th>\n",
       "      <th>sequence</th>\n",
       "      <th>observed_label</th>\n",
       "    </tr>\n",
       "  </thead>\n",
       "  <tbody>\n",
       "    <tr>\n",
       "      <th>0</th>\n",
       "      <td>AGAGTCGGAAGGAAGGAAGGAAGGACAGCG</td>\n",
       "      <td>1</td>\n",
       "    </tr>\n",
       "    <tr>\n",
       "      <th>1</th>\n",
       "      <td>AAAGCCGGAAGGAAGGAAGGAAGGCGAAGT</td>\n",
       "      <td>1</td>\n",
       "    </tr>\n",
       "    <tr>\n",
       "      <th>2</th>\n",
       "      <td>CTGTTAGGAAGGAAGGAAGGAAGGAATGGC</td>\n",
       "      <td>1</td>\n",
       "    </tr>\n",
       "    <tr>\n",
       "      <th>3</th>\n",
       "      <td>TTGCAAGGAAGGAAGGAAGGAAGGCTACAG</td>\n",
       "      <td>1</td>\n",
       "    </tr>\n",
       "    <tr>\n",
       "      <th>4</th>\n",
       "      <td>ACTATGGAAAGGAAGGAAGGAAGGCAGGTG</td>\n",
       "      <td>1</td>\n",
       "    </tr>\n",
       "  </tbody>\n",
       "</table>\n",
       "</div>"
      ],
      "text/plain": [
       "                         sequence  observed_label\n",
       "0  AGAGTCGGAAGGAAGGAAGGAAGGACAGCG               1\n",
       "1  AAAGCCGGAAGGAAGGAAGGAAGGCGAAGT               1\n",
       "2  CTGTTAGGAAGGAAGGAAGGAAGGAATGGC               1\n",
       "3  TTGCAAGGAAGGAAGGAAGGAAGGCTACAG               1\n",
       "4  ACTATGGAAAGGAAGGAAGGAAGGCAGGTG               1"
      ]
     },
     "execution_count": 4,
     "metadata": {},
     "output_type": "execute_result"
    }
   ],
   "source": [
    "import pandas as pd\n",
    "from collections import OrderedDict\n",
    "df_training = pd.DataFrame(OrderedDict([('sequence', np.concatenate((sequences_positive, sequences_negative))),\n",
    "                                        ('observed_label', np.concatenate((labels_positive, labels_negative)))]))\n",
    "df_training[:5]"
   ]
  },
  {
   "cell_type": "markdown",
   "metadata": {},
   "source": [
    "... and the negative examples: "
   ]
  },
  {
   "cell_type": "code",
   "execution_count": 5,
   "metadata": {},
   "outputs": [
    {
     "data": {
      "text/html": [
       "<div>\n",
       "<style scoped>\n",
       "    .dataframe tbody tr th:only-of-type {\n",
       "        vertical-align: middle;\n",
       "    }\n",
       "\n",
       "    .dataframe tbody tr th {\n",
       "        vertical-align: top;\n",
       "    }\n",
       "\n",
       "    .dataframe thead th {\n",
       "        text-align: right;\n",
       "    }\n",
       "</style>\n",
       "<table border=\"1\" class=\"dataframe\">\n",
       "  <thead>\n",
       "    <tr style=\"text-align: right;\">\n",
       "      <th></th>\n",
       "      <th>sequence</th>\n",
       "      <th>observed_label</th>\n",
       "    </tr>\n",
       "  </thead>\n",
       "  <tbody>\n",
       "    <tr>\n",
       "      <th>5000</th>\n",
       "      <td>AGCTTGCTTCTTCTGCCCTAGAACGCACCG</td>\n",
       "      <td>0</td>\n",
       "    </tr>\n",
       "    <tr>\n",
       "      <th>5001</th>\n",
       "      <td>GATCCCAATTCCAGCTTTGTTGGCCCGTAC</td>\n",
       "      <td>0</td>\n",
       "    </tr>\n",
       "    <tr>\n",
       "      <th>5002</th>\n",
       "      <td>GATACTTGATCACGCGGGTTTTTCTTCTGC</td>\n",
       "      <td>0</td>\n",
       "    </tr>\n",
       "    <tr>\n",
       "      <th>5003</th>\n",
       "      <td>GTGTTGCTATAAAAACGGTCCAGTTATTCC</td>\n",
       "      <td>0</td>\n",
       "    </tr>\n",
       "    <tr>\n",
       "      <th>5004</th>\n",
       "      <td>AACAGCAACCGCGATCTGAATGATCCCGAA</td>\n",
       "      <td>0</td>\n",
       "    </tr>\n",
       "  </tbody>\n",
       "</table>\n",
       "</div>"
      ],
      "text/plain": [
       "                            sequence  observed_label\n",
       "5000  AGCTTGCTTCTTCTGCCCTAGAACGCACCG               0\n",
       "5001  GATCCCAATTCCAGCTTTGTTGGCCCGTAC               0\n",
       "5002  GATACTTGATCACGCGGGTTTTTCTTCTGC               0\n",
       "5003  GTGTTGCTATAAAAACGGTCCAGTTATTCC               0\n",
       "5004  AACAGCAACCGCGATCTGAATGATCCCGAA               0"
      ]
     },
     "execution_count": 5,
     "metadata": {},
     "output_type": "execute_result"
    }
   ],
   "source": [
    "half_way = len(df_training)//2\n",
    "df_training[half_way:half_way+5]"
   ]
  },
  {
   "cell_type": "markdown",
   "metadata": {},
   "source": [
    "## Preprocessing the data: one-hot encoding\n",
    "\n",
    "Since the sequences are categorical data, we must encode them as numbers before passing them into a function that maps them to class labels. We use \"one-hot encoding\", creating a tensor with dimensions `(number_examples, sequence_length, number_channels)` where `number_channels = 4`: "
   ]
  },
  {
   "cell_type": "code",
   "execution_count": 6,
   "metadata": {},
   "outputs": [
    {
     "name": "stdout",
     "output_type": "stream",
     "text": [
      "encoded_sequences.shape:  (10000, 30, 4)\n",
      "observed_labels.shape: (10000, 1)\n"
     ]
    }
   ],
   "source": [
    "from load_preprocess_data import _one_hot_encode_conv1d\n",
    "\n",
    "encoded_sequences = []\n",
    "observed_labels = []\n",
    "for sequence, observed_label in zip(df_training['sequence'], df_training['observed_label']):\n",
    "    encoded_sequences.append(_one_hot_encode_conv1d(sequence))\n",
    "    observed_labels.append([observed_label])\n",
    "encoded_sequences = np.array(encoded_sequences)\n",
    "observed_labels = np.array(observed_labels)\n",
    "print('encoded_sequences.shape: ', encoded_sequences.shape)\n",
    "print('observed_labels.shape:', observed_labels.shape)"
   ]
  },
  {
   "cell_type": "markdown",
   "metadata": {},
   "source": [
    "Since the positive examples appear at the head of the list of examples, and the negative examples at the tail, there is a danger that the network will be influenced by  this artifact. This is combatted by shuffling the data before splitting it into training and validation sets. [Keras will not shuffle before splitting](https://keras.io/getting-started/faq/#how-is-the-validation-split-computed), so we must shuffle the data ourselves. (Keras will however shuffle the training data at each epoch: [see here](https://keras.io/getting-started/faq/#is-the-data-shuffled-during-training).) "
   ]
  },
  {
   "cell_type": "code",
   "execution_count": 7,
   "metadata": {},
   "outputs": [],
   "source": [
    "permutation = np.random.permutation(len(observed_labels))\n",
    "\n",
    "encoded_sequences = encoded_sequences[permutation, :, :]\n",
    "observed_labels = observed_labels[permutation, :]"
   ]
  },
  {
   "cell_type": "markdown",
   "metadata": {},
   "source": [
    "Finally we hold out some data for testing later: "
   ]
  },
  {
   "cell_type": "code",
   "execution_count": 8,
   "metadata": {},
   "outputs": [],
   "source": [
    "test_set_size = min(1000, int(0.1*len(encoded_sequences)))\n",
    "\n",
    "encoded_sequences_test = encoded_sequences[:test_set_size, :, :]\n",
    "encoded_sequences = encoded_sequences[test_set_size:, :, :]\n",
    "\n",
    "observed_labels_test = observed_labels[:test_set_size, :]\n",
    "observed_labels = observed_labels[test_set_size:, :]"
   ]
  },
  {
   "cell_type": "markdown",
   "metadata": {},
   "source": [
    "## Building a convolution neural network \n",
    "\n",
    "Next, we set up a convolution neural network to map sequence to labels: "
   ]
  },
  {
   "cell_type": "code",
   "execution_count": 9,
   "metadata": {
    "scrolled": false
   },
   "outputs": [
    {
     "name": "stderr",
     "output_type": "stream",
     "text": [
      "Using TensorFlow backend.\n"
     ]
    },
    {
     "name": "stdout",
     "output_type": "stream",
     "text": [
      "conv filter has dimension kernel_size X number_input_channels X number_output_channels\n",
      "shape of conv filter (18, 4, 1)\n",
      "\n",
      "model.inputs [<tf.Tensor 'conv1d_1_input:0' shape=(?, 30, 4) dtype=float32>]\n",
      "model.outputs [<tf.Tensor 'dense_1/Sigmoid:0' shape=(?, 1) dtype=float32>]\n",
      "_________________________________________________________________\n",
      "Layer (type)                 Output Shape              Param #   \n",
      "=================================================================\n",
      "conv1d_1 (Conv1D)            (None, 13, 1)             72        \n",
      "_________________________________________________________________\n",
      "dropout_1 (Dropout)          (None, 13, 1)             0         \n",
      "_________________________________________________________________\n",
      "flatten_1 (Flatten)          (None, 13)                0         \n",
      "_________________________________________________________________\n",
      "dense_1 (Dense)              (None, 1)                 14        \n",
      "=================================================================\n",
      "Total params: 86\n",
      "Trainable params: 86\n",
      "Non-trainable params: 0\n",
      "_________________________________________________________________\n"
     ]
    }
   ],
   "source": [
    "# https://github.com/keras-team/keras/issues/2102#issuecomment-233773649\n",
    "import keras.backend as K\n",
    "K.clear_session()\n",
    "\n",
    "from keras.models import Sequential\n",
    "from keras.layers import Conv1D, Dense, Flatten, Dropout\n",
    "\n",
    "model = Sequential()\n",
    "model.add(Conv1D(filters=1, \n",
    "                 kernel_size=motif.shape[1], \n",
    "                 input_shape=(sequence_length, 4), \n",
    "                 use_bias=False,\n",
    "                 padding='valid',\n",
    "                 activation='relu'))\n",
    "\n",
    "print('conv filter has dimension kernel_size X number_input_channels X number_output_channels')\n",
    "print('shape of conv filter', model.layers[0].get_weights()[0].shape)\n",
    "print('')\n",
    "\n",
    "# INVERTED DROPOUT\n",
    "# \"Dropout\" gets applied to the output of preceding layer (at training time only):\n",
    "# https://keras.io/layers/core/#dropout\n",
    "# weights are scaled by inverse of dropout rate (at training time only):\n",
    "# see: line 2277 of /anaconda2/envs/tensorflow3/lib/python3.5/site-packages/tensorflow/python/ops/nn_ops.py\n",
    "# also see: https://github.com/keras-team/keras/issues/3305#issuecomment-235359883\n",
    "# also see: https://www.coursera.org/lecture/deep-neural-network/dropout-regularization-eM33A\n",
    "model.add(Dropout(rate=0.5)) # including dropout moves the converged values of loss and accuracy into a \"reasonable\" range\n",
    "\n",
    "model.add(Flatten())\n",
    "model.add(Dense(units=1, activation='sigmoid'))\n",
    "\n",
    "model.compile(optimizer='adam',\n",
    "              loss='binary_crossentropy',\n",
    "              metrics=['acc']) \n",
    "# \"acc\" is an alias for \"binary_accuracy\" when \"loss\" is \"binary_crossentropy\":\n",
    "# https://github.com/keras-team/keras/blob/351e7a992d8f948e373e321252a35824da77ac35/keras/engine/training.py#L383\n",
    "# https://github.com/keras-team/keras/blob/cd44c6e0aaff4bb52a060d778025b32dbde09b44/keras/metrics.py#L26 \n",
    "\n",
    "print('model.inputs', model.inputs)\n",
    "print('model.outputs', model.outputs)\n",
    "model.summary()\n",
    "\n",
    "# save model summary to disk\n",
    "from contextlib import redirect_stdout\n",
    "with open('model.summary.txt', 'w') as f:\n",
    "    with redirect_stdout(f):\n",
    "        model.summary()"
   ]
  },
  {
   "cell_type": "markdown",
   "metadata": {},
   "source": [
    "## Training and evaluting the network"
   ]
  },
  {
   "cell_type": "markdown",
   "metadata": {},
   "source": [
    "Next, let's train the network we have built: "
   ]
  },
  {
   "cell_type": "code",
   "execution_count": 10,
   "metadata": {},
   "outputs": [],
   "source": [
    "from keras.callbacks import ModelCheckpoint\n",
    "checkpoint = ModelCheckpoint(filepath=\"model.best.hdf5\", \n",
    "                             save_weights_only=False,\n",
    "                             monitor='val_acc', \n",
    "                             verbose=0,\n",
    "                             save_best_only=True,\n",
    "                             period=2)\n",
    "\n",
    "from keras.callbacks import TensorBoard\n",
    "tensorboard = TensorBoard(log_dir='./logs', \n",
    "                          histogram_freq=1, \n",
    "                          write_graph=False, \n",
    "                          write_grads=True, \n",
    "                          write_images=True) # visualize model weights as images\n",
    "\n",
    "history = model.fit(x=encoded_sequences, \n",
    "                    y=observed_labels, \n",
    "                    validation_split=0.2, \n",
    "                    epochs=int(200*(10000/number_training_examples)),\n",
    "                    verbose=0,\n",
    "                    callbacks=[checkpoint, tensorboard]) "
   ]
  },
  {
   "cell_type": "markdown",
   "metadata": {},
   "source": [
    "... and monitor it's performance during the training process: "
   ]
  },
  {
   "cell_type": "code",
   "execution_count": 11,
   "metadata": {},
   "outputs": [
    {
     "data": {
      "image/png": "[encoded data removed]",
      "text/plain": [
       "<Figure size 720x360 with 1 Axes>"
      ]
     },
     "metadata": {
      "needs_background": "light"
     },
     "output_type": "display_data"
    },
    {
     "data": {
      "image/png": "[encoded data removed]",
      "text/plain": [
       "<Figure size 720x360 with 1 Axes>"
      ]
     },
     "metadata": {
      "needs_background": "light"
     },
     "output_type": "display_data"
    }
   ],
   "source": [
    "import matplotlib.pyplot as plt\n",
    "%matplotlib inline \n",
    "\n",
    "def plot_history(histories, key='loss', ymin=None, ymax=None):\n",
    "    plt.figure(figsize=(10,5))    \n",
    "    for name, history in histories:\n",
    "        validation_plot = plt.plot(history.epoch, \n",
    "                                   history.history['val_' + key], \n",
    "                                   '--', \n",
    "                                   label=name + ' validation ' + key)\n",
    "        plt.plot(history.epoch, \n",
    "                 history.history[key], \n",
    "                 color=validation_plot[0].get_color(),\n",
    "                 label=name + ' train ' + key)\n",
    "        plt.xlabel('epochs')\n",
    "        plt.legend()\n",
    "        plt.xlim([0, max(history.epoch)])\n",
    "        if ymin is not None:\n",
    "            plt.ylim(bottom=ymin)\n",
    "        if ymax is not None:\n",
    "            plt.ylim(top=ymax)\n",
    "    \n",
    "plot_history([('conv1d', history)], key='loss', ymin=0, ymax=0.1)\n",
    "plot_history([('conv1d', history)], key='acc', ymin=0.95, ymax=1)"
   ]
  },
  {
   "cell_type": "markdown",
   "metadata": {},
   "source": [
    "After convergence, the model performs very well! It's accuracy is far greater than 50%, which is the baseline accuracy associated with randomly predicting labels when the classes are \"balanced\" (the number of positive and negative examples are equal). \n",
    "\n",
    "Note: Training and validation losses (as computed above) may differ for the reasons below. These confounding factors may be controlled for by making predictions in exactly the same way for training, validation and test sets, e.g. using `model.predict` in Keras.\n",
    "\n",
    "* regularization (see [here](https://keras.io/getting-started/faq/#why-is-the-training-loss-much-higher-than-the-testing-loss) and [\"because [this] penalty is only added at training time, the loss for this network will be much higher at training than at test time\"](https://www.tensorflow.org/tutorials/keras/overfit_and_underfit#add_weight_regularization)\n",
    ")\n",
    "* the time during training at which the loss is evaluated (see [here](https://keras.io/getting-started/faq/#why-is-the-training-loss-much-higher-than-the-testing-loss)) \n",
    "\n",
    " "
   ]
  },
  {
   "cell_type": "markdown",
   "metadata": {},
   "source": [
    "The high performance indicated by the classification accuracy is confirmed by examining the confusion matrix (for a given threshold on the probability output of the network) and the ROC (which exhaustively varies that threshold): "
   ]
  },
  {
   "cell_type": "code",
   "execution_count": 12,
   "metadata": {},
   "outputs": [
    {
     "name": "stdout",
     "output_type": "stream",
     "text": [
      "Confusion matrix (threshold = 0.5):\n",
      " [[4495    1]\n",
      " [   1 4503]]\n"
     ]
    },
    {
     "data": {
      "image/png": "[encoded data removed]",
      "text/plain": [
       "<Figure size 432x288 with 1 Axes>"
      ]
     },
     "metadata": {
      "needs_background": "light"
     },
     "output_type": "display_data"
    }
   ],
   "source": [
    "predicted_probabilities = model.predict(encoded_sequences)\n",
    "\n",
    "from sklearn.metrics import confusion_matrix\n",
    "threshold = 0.5\n",
    "cm = confusion_matrix(y_true=observed_labels, \n",
    "                      y_pred=predicted_probabilities>threshold)\n",
    "print('Confusion matrix (threshold = {}):\\n'.format(threshold), cm)\n",
    "\n",
    "from sklearn.metrics import roc_curve\n",
    "fpr, tpr, thresholds = roc_curve(observed_labels, predicted_probabilities)\n",
    "plt.plot(fpr, tpr, '.', ms=10)\n",
    "_ = plt.xlabel('false positive rate')\n",
    "_ = plt.ylabel('true positive rate')\n",
    "_ = plt.xlim([-0.01, 1.01])\n",
    "_ = plt.ylim([-0.01, 1.01])"
   ]
  },
  {
   "cell_type": "markdown",
   "metadata": {},
   "source": [
    "## Interrogating the learned convolution filter"
   ]
  },
  {
   "cell_type": "markdown",
   "metadata": {},
   "source": [
    "Does the network perform so well because the convolution filter it learns matches the motif that was injected into the positive examples? The simplest way to approach this question is to compare the matrices representing the original motif and the learned convolution filter: "
   ]
  },
  {
   "cell_type": "code",
   "execution_count": 13,
   "metadata": {},
   "outputs": [
    {
     "data": {
      "image/png": "[encoded data removed]",
      "text/plain": [
       "<Figure size 432x288 with 2 Axes>"
      ]
     },
     "metadata": {
      "needs_background": "light"
     },
     "output_type": "display_data"
    }
   ],
   "source": [
    "plt.subplot(2, 1, 1)\n",
    "plt.imshow(motif)\n",
    "_ = plt.xticks(np.arange(0, 18, step=2))\n",
    "_ = plt.title('original motif')\n",
    "\n",
    "convolution_filter = model.layers[0].get_weights()[0].squeeze().transpose()\n",
    "\n",
    "plt.subplot(2, 1, 2)\n",
    "plt.imshow(convolution_filter)\n",
    "_ = plt.xticks(np.arange(0, 18, step=2))\n",
    "_ = plt.title('convolution filter')"
   ]
  },
  {
   "cell_type": "markdown",
   "metadata": {},
   "source": [
    "Are these matrices similar in any respect? Perhaps, but clearly this approach to interrogating the filter needs to be refined if we are to come away with some intuition about the origin of the high performance of the neural network.\n",
    "\n",
    "In particular, should we expect that, at each position (the x-axes in the images above), the value of the convolution filter is largest at the nucleotide (y-axis) at which the PWM of the motif is maximal in value? Or should we expect the opposite, namely that the filter is smallest where the motif is largest? The answer to this question depends upon how the network uses the convolution filter to make predictions, which we consider next. "
   ]
  },
  {
   "cell_type": "markdown",
   "metadata": {},
   "source": [
    "## Two ways to achieve high performance \n",
    "\n",
    "Our network implements a sequence of functional transformations that convert the input sequence $s$ into a probability, $p$, that the sequence belongs to the positive class. This probability is computed as:\n",
    "\n",
    "\\begin{equation} \n",
    "p = \\sigma \\left( \\, \\Sigma_i a_i w_i + b \\, \\right) \n",
    "\\end{equation} \n",
    "\n",
    "where $\\sigma$ is the sigmoid activation function, $w_i$ and $b$ are trainable parameters and $a_i$ is the activation of the $i$th hidden neuron. That activation is in turn computed as \n",
    "\n",
    "\\begin{equation} \n",
    "a_i = r(\\, (s*f)_i \\, ) \n",
    "\\end{equation} \n",
    "\n",
    "where $r$ is the ReLU activation function, $s$ is the input sequence (one-hot-encoded), $f$ is the convolution filter, and `*` represents the convolution operation. \n",
    "\n",
    "With this notation in hand, we may depict schematically one possible way in which the network could correctly predict class labels (below, the positive class is labeled \"1\" and the negative class is labeled \"0\"): \n",
    "\n",
    "<table>\n",
    "    <caption>Schema #1</caption>\n",
    "    <tr>\n",
    "        <th>class</th> <th>s*f</th> <th>a</th> <th>w</th> <th>b</th> <th>p</th>     \n",
    "    </tr> \n",
    "    <tr> \n",
    "        <td>1</td> <td>-</td> <td>0</td> <td rowspan=\"2\">-</td> <td rowspan=\"2\">+</td> <td>1</td>\n",
    "    </tr> \n",
    "    <tr> \n",
    "        <td>0</td> <td>+</td> <td>+</td> <td>0</td>\n",
    "    </tr> \n",
    "</table> \n",
    "\n",
    "For example, if the input sequence is in the positive class, then this table conveys that convolving with the filter yields large negative numbers, which when passed through ReLU give zeroes, which when multiplied by negative weights $w$ and added to a positive bias $b$ yields a positive number, which gets mapped to a number $p$ close to one after passing through the sigmoid function. \n",
    "\n",
    "The alternate way to correctly predict classes is to reverse the sign of the convolution $s*f$ on positive and negative examples (and simultaneously reverse the signs of the weights and biases, $w$ and $b$):\n",
    "\n",
    "\n",
    "<table>\n",
    "    <caption>Schema #2</caption>\n",
    "    <tr>\n",
    "        <th>class</th> <th>s*f</th> <th>a</th> <th>w</th> <th>b</th> <th>p</th>     \n",
    "    </tr> \n",
    "    <tr> \n",
    "        <td>1</td> <td>+</td> <td>+</td> <td rowspan=\"2\">+</td> <td rowspan=\"2\">-</td> <td>1</td>\n",
    "    </tr> \n",
    "    <tr> \n",
    "        <td>0</td> <td>-</td> <td>0</td> <td>0</td>\n",
    "    </tr> \n",
    "</table>\n",
    "\n",
    "My experiments show that the training process always converges on a high-performance predictor that can be described using one of the two schema above (though the convolution filter that evolves varies). \n",
    "\n"
   ]
  },
  {
   "cell_type": "markdown",
   "metadata": {},
   "source": [
    "For example, here are the activations $a_i$ of the convolution layer and the weights $w_i$ that multiply them for a particular example and for the network we trained in this notebook:"
   ]
  },
  {
   "cell_type": "code",
   "execution_count": 14,
   "metadata": {
    "scrolled": false
   },
   "outputs": [
    {
     "name": "stdout",
     "output_type": "stream",
     "text": [
      "Schema #1 (see table above)\n"
     ]
    },
    {
     "data": {
      "image/png": "[encoded data removed]",
      "text/plain": [
       "<Figure size 432x288 with 3 Axes>"
      ]
     },
     "metadata": {
      "needs_background": "light"
     },
     "output_type": "display_data"
    }
   ],
   "source": [
    "from keras.models import Model\n",
    "conv_layer_model = Model(inputs=model.input,\n",
    "                         outputs=model.layers[0].output)\n",
    "\n",
    "positive_example_index = next(index for index, label in enumerate(observed_labels_test.squeeze()) if label == 1)\n",
    "negative_example_index = next(index for index, label in enumerate(observed_labels_test.squeeze()) if label == 0)\n",
    "\n",
    "activations_positive_example = conv_layer_model.predict(np.array([encoded_sequences_test[positive_example_index]])).squeeze()\n",
    "activations_negative_example = conv_layer_model.predict(np.array([encoded_sequences_test[negative_example_index]])).squeeze()\n",
    "\n",
    "weights = model.layers[3].get_weights()[0].squeeze()\n",
    "\n",
    "plt.subplot(3, 1, 1)\n",
    "plt.plot(activations_positive_example, 's')\n",
    "plt.title('activations, $a_i$, for positive example')\n",
    "\n",
    "plt.subplot(3, 1, 2)\n",
    "plt.plot(activations_negative_example, 's')\n",
    "plt.title('activations, $a_i$, for negative example')\n",
    "\n",
    "plt.subplot(3, 1, 3)\n",
    "_ = plt.plot(weights, 's')\n",
    "_ = plt.xlabel('neuron index, i, in conv layer')\n",
    "_ = plt.title('weights, $w_i$')\n",
    "\n",
    "plt.tight_layout()\n",
    "\n",
    "bias = float(model.layers[3].get_weights()[1])\n",
    "print('Schema #{} (see table above)'.format(1 if bias > 0 else 2))"
   ]
  },
  {
   "cell_type": "markdown",
   "metadata": {},
   "source": [
    "## A second pass at interrogating the convolution filter \n",
    "\n",
    "Now that we have classified the networks that evolve during training, we can return to the question of how to interrogate the convolution filter. \n",
    "\n",
    "In Schema #1, what drives the network to correctly predict the label of positive examples are negative values of the convolution filter (look at the second column of the table and remember that $s$ is one-hot-encoded and therefore always positive). This suggests that, when the network belongs to Schema #1, we should extract a \"consensus sequence\" from the convolution filter by picking out the nucleotides at each position that are **most negative.** \n",
    "\n",
    "In contrast, in Schema #2, correct predictions on positive examples result from positive values of the convolution filter (again see the second column of the corresponding table), implying that, when the network belongs to Schema #2,  the consensus sequence should be obtained by finding the nucleotides at each position at which the filter is **most positive.**"
   ]
  },
  {
   "cell_type": "code",
   "execution_count": 15,
   "metadata": {},
   "outputs": [
    {
     "name": "stdout",
     "output_type": "stream",
     "text": [
      "motif consensus sequence: GGAAGGAAGGAAGGAAGG\n",
      "convolution filter consensus sequence: AGCAGGAAGGGAGGGAAG\n"
     ]
    }
   ],
   "source": [
    "def consensus_sequence(matrix, model=None): \n",
    "    nucleotides = ['A','C','G','T']\n",
    "    if model: \n",
    "        # use bias to determine which schema the network belongs to:\n",
    "        bias = float(model.layers[3].get_weights()[1]) \n",
    "        arg = np.argmin if bias > 0.0 else np.argmax\n",
    "    else: \n",
    "        arg = np.argmax\n",
    "    return ''.join([nucleotides[arg(matrix[:, position])] \n",
    "                    for position in range(matrix.shape[1])])\n",
    "\n",
    "consensus_sequence_motif = consensus_sequence(motif)\n",
    "consensus_sequence_filter = consensus_sequence(convolution_filter, model=model)\n",
    "\n",
    "print('motif consensus sequence:', consensus_sequence_motif)\n",
    "print('convolution filter consensus sequence:', consensus_sequence_filter)"
   ]
  },
  {
   "cell_type": "markdown",
   "metadata": {},
   "source": [
    "Now we are getting somewhere! Clearly the consensus sequence of the filter is similar to that of the original motif. In particular, the filter sequence is closer to the motif sequence than any random sequence is: "
   ]
  },
  {
   "cell_type": "code",
   "execution_count": 16,
   "metadata": {
    "scrolled": false
   },
   "outputs": [
    {
     "name": "stdout",
     "output_type": "stream",
     "text": [
      "alignment score of filter sequence to motif sequence: 13.0\n",
      "\n",
      "alignments of filter sequence to motif sequence:\n",
      "\n",
      "AGCAGGAAGGGAGGGAAG\n",
      "X|X|||||||X|||X|X|\n",
      "GGAAGGAAGGAAGGAAGG\n",
      "\n"
     ]
    },
    {
     "data": {
      "image/png": "[encoded data removed]",
      "text/plain": [
       "<Figure size 432x288 with 1 Axes>"
      ]
     },
     "metadata": {
      "needs_background": "light"
     },
     "output_type": "display_data"
    }
   ],
   "source": [
    "from Bio import Align\n",
    "internal_gap_score = -100 \n",
    "\n",
    "def generate_random_alignment_scores(): \n",
    "    random_alignment_scores = []\n",
    "    for i in range(10000):\n",
    "        random_sequence = ''.join(np.random.choice(['A', 'C', 'G', 'T'], \n",
    "                                                  size=motif.shape[1], \n",
    "                                                  p=np.array([1,1,1,1])/4.0))\n",
    "        aligner = Align.PairwiseAligner()\n",
    "        aligner.internal_gap_score = internal_gap_score\n",
    "        random_alignment_scores.append(\n",
    "            aligner.align(random_sequence, consensus_sequence_motif).score)\n",
    "    return random_alignment_scores\n",
    "\n",
    "plt.hist(generate_random_alignment_scores(), bins=50)\n",
    "plt.xlabel('alignment score of random sequence to motif sequence')\n",
    "plt.ylabel('number of random sequences')\n",
    "\n",
    "aligner = Align.PairwiseAligner()\n",
    "aligner.internal_gap_score = internal_gap_score\n",
    "alignments = aligner.align(consensus_sequence_filter, consensus_sequence_motif)\n",
    "print('alignment score of filter sequence to motif sequence:', alignments.score)\n",
    "print()\n",
    "print('alignments of filter sequence to motif sequence:')\n",
    "print()\n",
    "for alignment in alignments: \n",
    "    print(alignment)"
   ]
  },
  {
   "cell_type": "markdown",
   "metadata": {},
   "source": [
    "## Learning part of a motif can be  sufficient for high performance\n",
    "\n"
   ]
  },
  {
   "cell_type": "markdown",
   "metadata": {},
   "source": [
    "It is commonly thought that the filters in the first convolution layer of a neural network always learn Position Weight Matrices of sequence motifs. What we have found is that though a convolution filter can be similar to the motif it is designed to discover, it is often not identical to it (look again at the alignments shown above). Why? \n",
    "\n",
    "Learning just part of the motif is sufficient for high performance because the motif is long. Thus, even part of it is long enough to be unlikely to appear by chance in a negative example. And that is all that is required: to discriminate positive and negative examples, the model only needs to learn sequences that are unique to the positive examples. Once it has learned the shortest such discriminating sequence, it's performance is maximal and so it is no longer incentivized to learn longer discriminating sequences! \n",
    "\n",
    "This observation has important implications for designing and optimizing convolution neural networks in genomics: convolution filters in early layers  don't necessarily need to be as long as the motifs they are trying to detect, but do need to be long enough that the corresponding sequences are unlikely to occur by chance in examples lacking the motif. A similar conclusion was reached by [Koo and Eddy](https://www.biorxiv.org/content/early/2018/07/08/362756).\n",
    "\n",
    "Another corollary is that the shorter the original motif is, the more frequently it will occur in negative examples, and thus the more closely the convolution filter must match the motif in order to discriminate between positive and negative examples. \n",
    "\n",
    "\n",
    "\n"
   ]
  },
  {
   "cell_type": "markdown",
   "metadata": {},
   "source": [
    "## Other things to explore \n",
    "\n",
    "Visually examine the examples that are mis-classified by the convnet. Do the few negative examples that are mis-classified as positive by the convnet contain the motif, or large parts of it? \n",
    "\n",
    "Can one achieve similar performance with shorter filters provided one adds conv layers that combine those filters into a complete motif? \n",
    "\n",
    "Implement other approaches to learning sequence motifs: \n",
    "\n",
    "* example-based approaches: [Shrikumar, Greenside & Kundaje](https://github.com/kundajelab/deeplift) and [Deep Learning in Genomics Primer](https://github.com/abidlabs/deep-learning-genomics-primer/blob/master/A_Primer_on_Deep_Learning_in_Genomics_Public.ipynb)\n",
    "* refinements of the filter-based approach: [Ploenzke and Irizarry](https://www.biorxiv.org/content/biorxiv/early/2018/09/08/411934.full.pdf)"
   ]
  },
  {
   "cell_type": "code",
   "execution_count": null,
   "metadata": {},
   "outputs": [],
   "source": []
  }
 ],
 "metadata": {
  "kernelspec": {
   "display_name": "Python 3",
   "language": "python",
   "name": "python3"
  },
  "language_info": {
   "codemirror_mode": {
    "name": "ipython",
    "version": 3
   },
   "file_extension": ".py",
   "mimetype": "text/x-python",
   "name": "python",
   "nbconvert_exporter": "python",
   "pygments_lexer": "ipython3",
   "version": "3.5.6"
  },
  "toc": {
   "base_numbering": 1,
   "nav_menu": {
    "height": "270px",
    "width": "343px"
   },
   "number_sections": true,
   "sideBar": true,
   "skip_h1_title": false,
   "title_cell": "Table of Contents",
   "title_sidebar": "Contents",
   "toc_cell": true,
   "toc_position": {
    "height": "calc(100% - 180px)",
    "left": "10px",
    "top": "150px",
    "width": "212.75px"
   },
   "toc_section_display": true,
   "toc_window_display": true
  }
 },
 "nbformat": 4,
 "nbformat_minor": 1
}
